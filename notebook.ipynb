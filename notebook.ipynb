{
 "cells": [
  {
   "cell_type": "markdown",
   "id": "13b97058-d1c9-4312-872a-a1111cd39633",
   "metadata": {
    "editable": true,
    "slideshow": {
     "slide_type": "slide"
    },
    "tags": []
   },
   "source": [
    "<center>\n",
    "<img src=\"images/scikithep_logo.png\" style=\"height:250px;\"/>\n",
    "<h1>Scikit-HEP Tutorial</h1>\n",
    "<h2>Andres Rios-Tascon</h2>\n",
    "<img src=\"images/PU_lockup.png\" style=\"height:50px;\"/>&nbsp&nbsp&nbsp&nbsp&nbsp<img src=\"images/Iris-hep-4-no-long-name.png\" style=\"height:50px;\"/>\n",
    "</center>"
   ]
  },
  {
   "cell_type": "markdown",
   "id": "148cebbb-8c85-4f9a-b7e4-482b97acb63a",
   "metadata": {
    "editable": true,
    "slideshow": {
     "slide_type": "slide"
    },
    "tags": []
   },
   "source": [
    "# Plan for today\n",
    "\n",
    "Learn about the Python tools that are available for your HEP analyses."
   ]
  },
  {
   "cell_type": "markdown",
   "id": "2eaf675d-4337-48ee-9921-04f0d70acec2",
   "metadata": {
    "editable": true,
    "slideshow": {
     "slide_type": "fragment"
    },
    "tags": []
   },
   "source": [
    "### Key takeaways\n",
    "\n",
    "- There are a variety of Python tools for HEP, each with a very specific task.\n",
    "- All these tools work together to create an ecosystem.\n",
    "- You have the flexibility of picking whatever is right for your analysis."
   ]
  },
  {
   "cell_type": "markdown",
   "id": "66594a5a-0146-4811-acec-17f12be43b83",
   "metadata": {
    "editable": true,
    "slideshow": {
     "slide_type": "slide"
    },
    "tags": []
   },
   "source": [
    "# A bit of historical context"
   ]
  },
  {
   "cell_type": "markdown",
   "id": "8c6c0f82-594e-45fc-bd5b-f2603d53e8c8",
   "metadata": {
    "editable": true,
    "slideshow": {
     "slide_type": "fragment"
    },
    "tags": []
   },
   "source": [
    "<center>\n",
    "<img src=\"images/root_logo.png\" style=\"height:250px;\"/>\n",
    "</center>\n",
    "\n",
    "ROOT has been the standard data analysis package for HEP."
   ]
  },
  {
   "cell_type": "markdown",
   "id": "2030d12b-c79b-4e36-8f3f-2ebd57f62498",
   "metadata": {
    "editable": true,
    "slideshow": {
     "slide_type": "fragment"
    },
    "tags": []
   },
   "source": [
    "It is an all-in-one package that provides powerful tools for many different applications. It was also the first tool to have an interactive C++ intepreter, allowing you to work with C++ as if it was an intepreted language like Python."
   ]
  },
  {
   "cell_type": "markdown",
   "id": "3b4a2297-d378-4eb3-b923-104b07b6c1c4",
   "metadata": {
    "editable": true,
    "slideshow": {
     "slide_type": "fragment"
    },
    "tags": []
   },
   "source": [
    "However, it has some disadvantages\n",
    "- It can be difficult to install (although it has gotten better).\n",
    "- It is a fairly large package, so it can be wastefull if you only need a little piece.\n",
    "- C++ is hard."
   ]
  },
  {
   "cell_type": "markdown",
   "id": "5d27819f-a653-4690-970e-d091c345efd4",
   "metadata": {
    "editable": true,
    "slideshow": {
     "slide_type": "slide"
    },
    "tags": []
   },
   "source": [
    "# Software ecosystems\n",
    "\n",
    "A more modern aproach to tooling is to have ecosystems instead of all-in-one packages. They're easier to develop and give the user more freedom."
   ]
  },
  {
   "cell_type": "markdown",
   "id": "71f9270c-b34d-45b3-8275-03619f0f6d3a",
   "metadata": {
    "editable": true,
    "slideshow": {
     "slide_type": "fragment"
    },
    "tags": []
   },
   "source": [
    "For example, in mainstream Python we have:\n",
    "- NumPy, which *only* deals with arrays\n",
    "- Pandas, which *only* deals with tables\n",
    "- Matplotlib, which is *only* for plotting\n",
    "- Jupyter, which is *only* for notebooks\n",
    "- Scikit-Learn, which *only* does machine learning\n",
    "- etc."
   ]
  },
  {
   "cell_type": "markdown",
   "id": "81989960-a369-4c86-892b-d1c1e51758b9",
   "metadata": {
    "editable": true,
    "slideshow": {
     "slide_type": "fragment"
    },
    "tags": []
   },
   "source": [
    "Python packages for HEP are being developed with the same model:\n",
    "- Uproot *only* reads and writes ROOT files\n",
    "- Awkward Array *only* deals with irregular arrays\n",
    "- hist *only* deals with histograms\n",
    "- iminuit *only* optimizes,\n",
    "- zfit *only* fits,\n",
    "- Particle *only* provides PDG-style data,\n",
    "- etc."
   ]
  },
  {
   "cell_type": "markdown",
   "id": "f20e9d03-409a-46ec-9683-d5c1b8c2571b",
   "metadata": {
    "editable": true,
    "slideshow": {
     "slide_type": "slide"
    },
    "tags": []
   },
   "source": [
    "# This is the Scikit-HEP ecosystem\n",
    "\n",
    "<center>\n",
    "<img src=\"images/scikit-hep-logos.png\" style=\"height:500px;\"/>\n",
    "<div>(not all packages are shown)</div>\n",
    "</center>"
   ]
  },
  {
   "cell_type": "markdown",
   "id": "1d36fe77-4bd5-4dfe-bada-83717d1d6001",
   "metadata": {
    "editable": true,
    "slideshow": {
     "slide_type": "fragment"
    },
    "tags": []
   },
   "source": [
    "Apart from the modularity and ease of installation, it also has the advantage of having Python as its main language. So it lowers the barrier of entry, and offers an easy interface to tools that are not HEP-specific (e.g. for ML).\n",
    "\n",
    "More info at https://scikit-hep.org"
   ]
  },
  {
   "cell_type": "markdown",
   "id": "9d4101b2-b333-4ae9-bd67-45578a4d0644",
   "metadata": {
    "editable": true,
    "slideshow": {
     "slide_type": "fragment"
    },
    "tags": []
   },
   "source": [
    "We'll be learning how to use some of these packages today."
   ]
  },
  {
   "cell_type": "markdown",
   "id": "068d099d-dcca-40c7-8f32-08fe977a0688",
   "metadata": {
    "editable": true,
    "slideshow": {
     "slide_type": "slide"
    },
    "tags": []
   },
   "source": [
    "# Quick review\n",
    "\n",
    "Before we start, let's briefly review dictionary-like and array-like interfaces."
   ]
  },
  {
   "cell_type": "markdown",
   "id": "b607c94a-6a68-42f2-979a-07bfd6249019",
   "metadata": {
    "editable": true,
    "slideshow": {
     "slide_type": "slide"
    },
    "tags": []
   },
   "source": [
    "## Dict-like interfaces\n",
    "\n",
    "Some of the tools we'll be using provide dict-like interfaces where they have keys in the form of strings and have associated values."
   ]
  },
  {
   "cell_type": "markdown",
   "id": "23c976e1-301d-45c2-ba2f-c838425db511",
   "metadata": {
    "editable": true,
    "slideshow": {
     "slide_type": "fragment"
    },
    "tags": []
   },
   "source": [
    "For dicts, the things that can go in square brackets (its “domain,” as a function) are its `keys`."
   ]
  },
  {
   "cell_type": "code",
   "execution_count": 55,
   "id": "dd0c811e-02a3-4ed0-9555-35280bb33ba4",
   "metadata": {
    "editable": true,
    "slideshow": {
     "slide_type": "fragment"
    },
    "tags": []
   },
   "outputs": [
    {
     "data": {
      "text/plain": [
       "dict_keys(['word', 'another word', 'some other word'])"
      ]
     },
     "execution_count": 55,
     "metadata": {},
     "output_type": "execute_result"
    }
   ],
   "source": [
    "some_dict = {\"word\": 1, \"another word\": 2, \"some other word\": 3}\n",
    "some_dict.keys()\n"
   ]
  },
  {
   "cell_type": "markdown",
   "id": "9c328b7b-f7e7-4750-89e2-2a574e747b16",
   "metadata": {
    "editable": true,
    "slideshow": {
     "slide_type": "fragment"
    },
    "tags": []
   },
   "source": [
    "Nothing other than these keys can be used in square brackets"
   ]
  },
  {
   "cell_type": "code",
   "execution_count": 56,
   "id": "5cf1f293-b88c-4afc-ba3b-d2149dabf236",
   "metadata": {
    "editable": true,
    "slideshow": {
     "slide_type": "fragment"
    },
    "tags": [
     "raises-exception"
    ]
   },
   "outputs": [
    {
     "ename": "KeyError",
     "evalue": "'something I made up'",
     "output_type": "error",
     "traceback": [
      "\u001b[0;31m---------------------------------------------------------------------------\u001b[0m",
      "\u001b[0;31mKeyError\u001b[0m                                  Traceback (most recent call last)",
      "Cell \u001b[0;32mIn[56], line 1\u001b[0m\n\u001b[0;32m----> 1\u001b[0m \u001b[43msome_dict\u001b[49m\u001b[43m[\u001b[49m\u001b[38;5;124;43m\"\u001b[39;49m\u001b[38;5;124;43msomething I made up\u001b[39;49m\u001b[38;5;124;43m\"\u001b[39;49m\u001b[43m]\u001b[49m\n",
      "\u001b[0;31mKeyError\u001b[0m: 'something I made up'"
     ]
    }
   ],
   "source": [
    "some_dict[\"something I made up\"]"
   ]
  },
  {
   "cell_type": "markdown",
   "id": "f1af83ef-d865-4a64-9a0f-4016abd2fdcc",
   "metadata": {
    "editable": true,
    "slideshow": {
     "slide_type": "fragment"
    },
    "tags": []
   },
   "source": [
    "unless it has been added to the dict."
   ]
  },
  {
   "cell_type": "code",
   "execution_count": 57,
   "id": "92691eac-e450-4fee-8083-a155b88e3808",
   "metadata": {
    "editable": true,
    "slideshow": {
     "slide_type": "fragment"
    },
    "tags": []
   },
   "outputs": [],
   "source": [
    "some_dict[\"something I made up\"] = 123"
   ]
  },
  {
   "cell_type": "code",
   "execution_count": 58,
   "id": "b75d3948-667e-4cae-914f-bd8c4b5a1343",
   "metadata": {
    "editable": true,
    "slideshow": {
     "slide_type": "fragment"
    },
    "tags": []
   },
   "outputs": [
    {
     "data": {
      "text/plain": [
       "123"
      ]
     },
     "execution_count": 58,
     "metadata": {},
     "output_type": "execute_result"
    }
   ],
   "source": [
    "some_dict[\"something I made up\"]"
   ]
  },
  {
   "cell_type": "markdown",
   "id": "5edd709c-8fab-4786-ad4c-601ea8a94da2",
   "metadata": {
    "editable": true,
    "slideshow": {
     "slide_type": "fragment"
    },
    "tags": []
   },
   "source": [
    "The things that can come out of a dict (its “range,” as a function) are its `values`."
   ]
  },
  {
   "cell_type": "code",
   "execution_count": 59,
   "id": "96a97866-ac87-4d2b-8c7e-8b3219b00061",
   "metadata": {
    "editable": true,
    "slideshow": {
     "slide_type": "fragment"
    },
    "tags": []
   },
   "outputs": [
    {
     "data": {
      "text/plain": [
       "dict_values([1, 2, 3, 123])"
      ]
     },
     "execution_count": 59,
     "metadata": {},
     "output_type": "execute_result"
    }
   ],
   "source": [
    "some_dict.values()"
   ]
  },
  {
   "cell_type": "markdown",
   "id": "a4b4cf1f-0c73-4c52-bc84-2e0da946251a",
   "metadata": {
    "editable": true,
    "slideshow": {
     "slide_type": "fragment"
    },
    "tags": []
   },
   "source": [
    "You can get keys and values as 2-tuples by asking for its `items`."
   ]
  },
  {
   "cell_type": "code",
   "execution_count": 60,
   "id": "a7dc7a54-77d0-47e7-b1f4-accd655ec41d",
   "metadata": {
    "editable": true,
    "slideshow": {
     "slide_type": "fragment"
    },
    "tags": []
   },
   "outputs": [
    {
     "name": "stdout",
     "output_type": "stream",
     "text": [
      "word 1\n",
      "another word 2\n",
      "some other word 3\n",
      "something I made up 123\n"
     ]
    }
   ],
   "source": [
    "some_dict.items()\n",
    "\n",
    "for key, value in some_dict.items():\n",
    "    print(key, value)\n"
   ]
  },
  {
   "cell_type": "markdown",
   "id": "6549c287-ca54-4b76-8c32-27bdabc26461",
   "metadata": {
    "editable": true,
    "slideshow": {
     "slide_type": "fragment"
    },
    "tags": []
   },
   "source": [
    " "
   ]
  },
  {
   "cell_type": "markdown",
   "id": "f8be4cc3-fd3e-49d8-977d-955a4f3d6356",
   "metadata": {
    "editable": true,
    "slideshow": {
     "slide_type": "slide"
    },
    "tags": []
   },
   "source": [
    "## Array-like interfaces\n",
    "\n",
    "Some other tools will have array-like interfaces, where they will act as if they were arrays."
   ]
  },
  {
   "cell_type": "markdown",
   "id": "1d633a36-986d-4f0a-84d7-3026ceacfdb1",
   "metadata": {
    "editable": true,
    "slideshow": {
     "slide_type": "fragment"
    },
    "tags": []
   },
   "source": [
    "For arrays, the things that can go in square brackets (its “domain,” as a function) are integers from zero up to but not including its length."
   ]
  },
  {
   "cell_type": "code",
   "execution_count": 61,
   "id": "00ea7703-72df-41e6-b39d-3ff3b4d7b3e9",
   "metadata": {
    "editable": true,
    "slideshow": {
     "slide_type": "fragment"
    },
    "tags": []
   },
   "outputs": [],
   "source": [
    "import numpy as np\n",
    "\n",
    "some_array = np.array([0.0, 1.1, 2.2, 3.3, 4.4, 5.5, 6.6, 7.7, 8.8, 9.9])"
   ]
  },
  {
   "cell_type": "code",
   "execution_count": 62,
   "id": "0ebc81c8-d696-447d-b74f-947f4719f746",
   "metadata": {
    "editable": true,
    "slideshow": {
     "slide_type": "fragment"
    },
    "tags": []
   },
   "outputs": [
    {
     "data": {
      "text/plain": [
       "np.float64(0.0)"
      ]
     },
     "execution_count": 62,
     "metadata": {},
     "output_type": "execute_result"
    }
   ],
   "source": [
    "some_array[0]"
   ]
  },
  {
   "cell_type": "code",
   "execution_count": 63,
   "id": "208d2c12-e8a7-4b85-930a-017382425d3b",
   "metadata": {
    "editable": true,
    "slideshow": {
     "slide_type": "fragment"
    },
    "tags": []
   },
   "outputs": [
    {
     "data": {
      "text/plain": [
       "np.float64(1.1)"
      ]
     },
     "execution_count": 63,
     "metadata": {},
     "output_type": "execute_result"
    }
   ],
   "source": [
    "some_array[1]"
   ]
  },
  {
   "cell_type": "code",
   "execution_count": 64,
   "id": "4c3ec7c8-7883-47ff-bd0b-f726252f24ab",
   "metadata": {
    "editable": true,
    "slideshow": {
     "slide_type": "fragment"
    },
    "tags": []
   },
   "outputs": [
    {
     "data": {
      "text/plain": [
       "np.float64(9.9)"
      ]
     },
     "execution_count": 64,
     "metadata": {},
     "output_type": "execute_result"
    }
   ],
   "source": [
    "some_array[9]"
   ]
  },
  {
   "cell_type": "code",
   "execution_count": 66,
   "id": "e61973a4-f913-46de-9f34-f51c2e1a2df6",
   "metadata": {
    "editable": true,
    "slideshow": {
     "slide_type": "fragment"
    },
    "tags": [
     "raises-exception"
    ]
   },
   "outputs": [
    {
     "ename": "IndexError",
     "evalue": "index 10 is out of bounds for axis 0 with size 10",
     "output_type": "error",
     "traceback": [
      "\u001b[0;31m---------------------------------------------------------------------------\u001b[0m",
      "\u001b[0;31mIndexError\u001b[0m                                Traceback (most recent call last)",
      "Cell \u001b[0;32mIn[66], line 1\u001b[0m\n\u001b[0;32m----> 1\u001b[0m \u001b[43msome_array\u001b[49m\u001b[43m[\u001b[49m\u001b[38;5;241;43m10\u001b[39;49m\u001b[43m]\u001b[49m\n",
      "\u001b[0;31mIndexError\u001b[0m: index 10 is out of bounds for axis 0 with size 10"
     ]
    }
   ],
   "source": [
    "some_array[10]"
   ]
  },
  {
   "cell_type": "markdown",
   "id": "b97f2516-09dd-43b8-a1e7-27fbf1219738",
   "metadata": {
    "editable": true,
    "slideshow": {
     "slide_type": "fragment"
    },
    "tags": []
   },
   "source": [
    "You can get the length of an array (and the number of keys in a dict) with `len`:"
   ]
  },
  {
   "cell_type": "code",
   "execution_count": 67,
   "id": "525c9cc9-b0f4-4bc2-b391-f93d9ae4f244",
   "metadata": {
    "editable": true,
    "slideshow": {
     "slide_type": "fragment"
    },
    "tags": []
   },
   "outputs": [
    {
     "data": {
      "text/plain": [
       "10"
      ]
     },
     "execution_count": 67,
     "metadata": {},
     "output_type": "execute_result"
    }
   ],
   "source": [
    "len(some_array)"
   ]
  },
  {
   "cell_type": "markdown",
   "id": "c7148e76-b67c-499a-adfb-39a9e5f2ee90",
   "metadata": {
    "editable": true,
    "slideshow": {
     "slide_type": "fragment"
    },
    "tags": []
   },
   "source": [
    "It’s important to remember that index `0` corresponds to the first item in the array, `1` to the second, and so on, which is why `len(some_array)` is not a valid index.\n",
    "\n",
    "Negative indexes are allowed, but they count from the end of the list to the beginning. For instance,"
   ]
  },
  {
   "cell_type": "code",
   "execution_count": 69,
   "id": "da0a688c-7b94-4fd6-82ce-e9c129b62e28",
   "metadata": {
    "editable": true,
    "slideshow": {
     "slide_type": "fragment"
    },
    "tags": []
   },
   "outputs": [
    {
     "data": {
      "text/plain": [
       "np.float64(9.9)"
      ]
     },
     "execution_count": 69,
     "metadata": {},
     "output_type": "execute_result"
    }
   ],
   "source": [
    "some_array[-1]"
   ]
  },
  {
   "cell_type": "markdown",
   "id": "9afc0f25-611b-4efb-b174-e996ad63a1a2",
   "metadata": {
    "editable": true,
    "slideshow": {
     "slide_type": "fragment"
    },
    "tags": []
   },
   "source": [
    "returns the last item."
   ]
  },
  {
   "cell_type": "markdown",
   "id": "9dfca696-9460-4057-9da4-27d2c7c6a5e0",
   "metadata": {
    "editable": true,
    "slideshow": {
     "slide_type": "fragment"
    },
    "tags": []
   },
   "source": [
    "**Quick quiz**: which negative value returns the first item, equivalent to `0`?"
   ]
  },
  {
   "cell_type": "markdown",
   "id": "4f2f2bd0-d66a-4e83-b8b4-c7f67011b9d3",
   "metadata": {
    "editable": true,
    "slideshow": {
     "slide_type": "fragment"
    },
    "tags": []
   },
   "source": [
    "Arrays can also be “sliced” by putting a colon (`:`) between the starting and stopping index."
   ]
  },
  {
   "cell_type": "code",
   "execution_count": 139,
   "id": "a8638938-b6ae-46ae-93fe-7f248b80a414",
   "metadata": {
    "editable": true,
    "slideshow": {
     "slide_type": "fragment"
    },
    "tags": []
   },
   "outputs": [
    {
     "data": {
      "text/plain": [
       "array([2.2, 3.3, 4.4, 5.5, 6.6])"
      ]
     },
     "execution_count": 139,
     "metadata": {},
     "output_type": "execute_result"
    }
   ],
   "source": [
    "some_array[2:7]"
   ]
  },
  {
   "cell_type": "markdown",
   "id": "631b17b8-d85e-462f-967d-a9e8e61e2984",
   "metadata": {
    "editable": true,
    "slideshow": {
     "slide_type": "fragment"
    },
    "tags": []
   },
   "source": [
    "**Quick quiz**: why is `7.7` not included in the output?"
   ]
  },
  {
   "cell_type": "markdown",
   "id": "9cf9568e-f619-4365-96ca-210da56e8333",
   "metadata": {
    "editable": true,
    "slideshow": {
     "slide_type": "fragment"
    },
    "tags": []
   },
   "source": [
    "The above is common to all Python sequences. Arrays, however, can be multidimensional and this allows for more kinds of slicing."
   ]
  },
  {
   "cell_type": "code",
   "execution_count": 71,
   "id": "5be4bb02-95a1-4ab0-9e93-3d648dceb992",
   "metadata": {
    "editable": true,
    "slideshow": {
     "slide_type": "fragment"
    },
    "tags": []
   },
   "outputs": [
    {
     "data": {
      "text/plain": [
       "array([[[ 0,  1,  2,  3,  4],\n",
       "        [ 5,  6,  7,  8,  9],\n",
       "        [10, 11, 12, 13, 14]],\n",
       "\n",
       "       [[15, 16, 17, 18, 19],\n",
       "        [20, 21, 22, 23, 24],\n",
       "        [25, 26, 27, 28, 29]]])"
      ]
     },
     "execution_count": 71,
     "metadata": {},
     "output_type": "execute_result"
    }
   ],
   "source": [
    "array3d = np.arange(2 * 3 * 5).reshape(2, 3, 5)\n",
    "array3d"
   ]
  },
  {
   "cell_type": "markdown",
   "id": "e9d165ff-e169-467d-82d3-6826df28dbd9",
   "metadata": {},
   "source": [
    "Separating two slices in the square brackets with a comma"
   ]
  },
  {
   "cell_type": "code",
   "execution_count": 72,
   "id": "c4cacad4-8e16-4a34-9787-4514d6ca3225",
   "metadata": {
    "editable": true,
    "slideshow": {
     "slide_type": "fragment"
    },
    "tags": []
   },
   "outputs": [
    {
     "data": {
      "text/plain": [
       "array([[[ 6,  7,  8,  9],\n",
       "        [11, 12, 13, 14]],\n",
       "\n",
       "       [[21, 22, 23, 24],\n",
       "        [26, 27, 28, 29]]])"
      ]
     },
     "execution_count": 72,
     "metadata": {},
     "output_type": "execute_result"
    }
   ],
   "source": [
    "array3d[:, 1:, 1:]"
   ]
  },
  {
   "cell_type": "markdown",
   "id": "6cd75e95-6f41-4dbf-bb25-45c9abf9059d",
   "metadata": {
    "editable": true,
    "slideshow": {
     "slide_type": "fragment"
    },
    "tags": []
   },
   "source": [
    "selects the following:\n",
    "\n",
    "<center>\n",
    "<img src=\"images/array3d-highlight1.png\" style=\"height:250px;\"/>\n",
    "</center>"
   ]
  },
  {
   "cell_type": "markdown",
   "id": "b52217c4-a4f0-4a03-b9ca-6da7fb80c089",
   "metadata": {
    "editable": true,
    "slideshow": {
     "slide_type": "slide"
    },
    "tags": []
   },
   "source": [
    "## Filtering with booleans and integers: “cuts”\n",
    "\n",
    "In addition to integers and slices, arrays can be included in the square brackets.\n",
    "\n",
    "An array of booleans with the same length as the sliced array selects all items that line up with True."
   ]
  },
  {
   "cell_type": "code",
   "execution_count": 75,
   "id": "2e4ef27c-bb22-4f62-a3b1-343c75a33fb2",
   "metadata": {
    "editable": true,
    "slideshow": {
     "slide_type": "fragment"
    },
    "tags": []
   },
   "outputs": [
    {
     "data": {
      "text/plain": [
       "array([0. , 1.1, 2.2, 3.3, 4.4, 6.6, 8.8])"
      ]
     },
     "execution_count": 75,
     "metadata": {},
     "output_type": "execute_result"
    }
   ],
   "source": [
    "some_array = np.array([0.0, 1.1, 2.2, 3.3, 4.4, 5.5, 6.6, 7.7, 8.8, 9.9])\n",
    "boolean_array = np.array(\n",
    "    [True, True, True, True, True, False, True, False, True, False]\n",
    ")\n",
    "\n",
    "some_array[boolean_array]"
   ]
  },
  {
   "cell_type": "markdown",
   "id": "fb0a4789-983e-4b03-8b8d-bd8cf7b0fe56",
   "metadata": {
    "editable": true,
    "slideshow": {
     "slide_type": "fragment"
    },
    "tags": []
   },
   "source": [
    "An array of integers selects items by index."
   ]
  },
  {
   "cell_type": "code",
   "execution_count": 76,
   "id": "6eed546d-0e84-44f1-843a-1665711e8f58",
   "metadata": {
    "editable": true,
    "slideshow": {
     "slide_type": "fragment"
    },
    "tags": []
   },
   "outputs": [
    {
     "data": {
      "text/plain": [
       "array([0. , 1.1, 2.2, 3.3, 4.4, 6.6, 8.8])"
      ]
     },
     "execution_count": 76,
     "metadata": {},
     "output_type": "execute_result"
    }
   ],
   "source": [
    "some_array = np.array([0.0, 1.1, 2.2, 3.3, 4.4, 5.5, 6.6, 7.7, 8.8, 9.9])\n",
    "integer_array = np.array([0, 1, 2, 3, 4, 6, 8])\n",
    "\n",
    "some_array[integer_array]"
   ]
  },
  {
   "cell_type": "markdown",
   "id": "66d5a927-cced-42a9-a07b-177753f30dc8",
   "metadata": {
    "editable": true,
    "slideshow": {
     "slide_type": "fragment"
    },
    "tags": []
   },
   "source": [
    "Integer-slicing is more general than boolean-slicing because an array of integers can also change the order of the data and repeat items."
   ]
  },
  {
   "cell_type": "code",
   "execution_count": 4,
   "id": "bf92f624-de55-4678-ba01-8ea4254164ca",
   "metadata": {
    "editable": true,
    "slideshow": {
     "slide_type": "fragment"
    },
    "tags": []
   },
   "outputs": [
    {
     "data": {
      "text/plain": [
       "array([4.4, 2.2, 2.2, 2.2, 9.9, 8.8, 3.3])"
      ]
     },
     "execution_count": 4,
     "metadata": {},
     "output_type": "execute_result"
    }
   ],
   "source": [
    "some_array[[4, 2, 2, 2, 9, 8, 3]]"
   ]
  },
  {
   "cell_type": "markdown",
   "id": "b01465b1-8c06-40d9-958e-7278d6469d20",
   "metadata": {
    "editable": true,
    "slideshow": {
     "slide_type": "fragment"
    },
    "tags": []
   },
   "source": [
    "Both come up in natural contexts. Boolean arrays often come from performing a calculation on all elements of an array that returns boolean values."
   ]
  },
  {
   "cell_type": "code",
   "execution_count": 77,
   "id": "707c5b3d-9e59-4387-b5aa-6b3b1fdab0e3",
   "metadata": {
    "editable": true,
    "slideshow": {
     "slide_type": "fragment"
    },
    "tags": []
   },
   "outputs": [
    {
     "data": {
      "text/plain": [
       "array([0. , 2.2, 4.4, 6.6, 8.8])"
      ]
     },
     "execution_count": 77,
     "metadata": {},
     "output_type": "execute_result"
    }
   ],
   "source": [
    "even_valued_items = some_array * 10 % 2 == 0\n",
    "\n",
    "some_array[even_valued_items]"
   ]
  },
  {
   "cell_type": "markdown",
   "id": "5bb1ef1f-0dce-45fc-85ee-f928b23480df",
   "metadata": {
    "editable": true,
    "slideshow": {
     "slide_type": "fragment"
    },
    "tags": []
   },
   "source": [
    "This is how we’ll be computing and applying cuts: expressions like\n",
    "\n",
    "```python\n",
    "good_muon_cut = (muons.pt > 10) & (abs(muons.eta) < 2.4)\n",
    "\n",
    "good_muons = muons[good_muon_cut]\n",
    "```"
   ]
  },
  {
   "cell_type": "markdown",
   "id": "e4241090-7ecc-494c-a6d5-f0f2e65804dc",
   "metadata": {
    "editable": true,
    "slideshow": {
     "slide_type": "slide"
    },
    "tags": []
   },
   "source": [
    "## Logical operators: `&`, `|`, `~`, and parentheses\n",
    "\n",
    "If you’re coming from C++, you might expect “and,” “or,” “not” to be `&&`, `||`, `!`.\n",
    "\n",
    "If you’re coming from non-array Python, you might expect them to be `and`, `or`, `not`.\n",
    "\n",
    "In array expressions (unfortunately!), we have to use Python’s bitwise operators, `&`, `|`, `~`, and ensure that comparisons are surrounded in parentheses. Python’s `and`, `or`, `not` are not applied across arrays and bitwise operators have a surprising operator-precedence."
   ]
  },
  {
   "cell_type": "code",
   "execution_count": 78,
   "id": "e99c8f89-9625-4c8b-b385-934efc0c7c5f",
   "metadata": {
    "editable": true,
    "slideshow": {
     "slide_type": "fragment"
    },
    "tags": []
   },
   "outputs": [
    {
     "data": {
      "text/plain": [
       "False"
      ]
     },
     "execution_count": 78,
     "metadata": {},
     "output_type": "execute_result"
    }
   ],
   "source": [
    "x = 0\n",
    "x > -10 & x < 10  # probably not what you expect!"
   ]
  },
  {
   "cell_type": "code",
   "execution_count": 7,
   "id": "e715a173-8b3d-4675-a6e4-e5967bddf2e7",
   "metadata": {
    "editable": true,
    "slideshow": {
     "slide_type": "fragment"
    },
    "tags": []
   },
   "outputs": [
    {
     "data": {
      "text/plain": [
       "True"
      ]
     },
     "execution_count": 7,
     "metadata": {},
     "output_type": "execute_result"
    }
   ],
   "source": [
    "(x > -10) & (x < 10)"
   ]
  },
  {
   "cell_type": "markdown",
   "id": "99e1b39b-c723-466d-96eb-e03f0cd78b23",
   "metadata": {
    "editable": true,
    "slideshow": {
     "slide_type": "fragment"
    },
    "tags": []
   },
   "source": [
    "<center>\n",
    "<img src=\"images/bitwise-operator-parentheses.png\" style=\"height:300px;\"/>\n",
    "</center>"
   ]
  },
  {
   "cell_type": "markdown",
   "id": "8d97a480-c5ff-40b0-8e5a-f250259959c7",
   "metadata": {
    "editable": true,
    "slideshow": {
     "slide_type": "slide"
    },
    "tags": []
   },
   "source": [
    "## What is “array-oriented” or “columnar” processing?\n",
    "\n",
    "Expressions like"
   ]
  },
  {
   "cell_type": "code",
   "execution_count": 79,
   "id": "d8bdac6c-4c20-4b02-8723-401eab21989d",
   "metadata": {
    "editable": true,
    "slideshow": {
     "slide_type": "fragment"
    },
    "tags": []
   },
   "outputs": [],
   "source": [
    "even_valued_items = some_array * 10 % 2 == 0"
   ]
  },
  {
   "cell_type": "markdown",
   "id": "8d3ce3d9-1b55-46ff-80d5-a37f3ff4d7c0",
   "metadata": {
    "editable": true,
    "slideshow": {
     "slide_type": "fragment"
    },
    "tags": []
   },
   "source": [
    "perform the `*`, `%`, and `==` operations on every item of `some_array` and return arrays. Without NumPy, the above would have to be written as"
   ]
  },
  {
   "cell_type": "code",
   "execution_count": 9,
   "id": "96c7d728-92ce-4a53-abff-b11db1fc2e03",
   "metadata": {
    "editable": true,
    "slideshow": {
     "slide_type": "fragment"
    },
    "tags": []
   },
   "outputs": [],
   "source": [
    "even_valued_items = []\n",
    "\n",
    "for x in some_array:\n",
    "    even_valued_items.append(x * 10 % 2 == 0)"
   ]
  },
  {
   "cell_type": "markdown",
   "id": "c2ed8451-d9a7-4869-8e0b-c634dfcc016a",
   "metadata": {
    "editable": true,
    "slideshow": {
     "slide_type": "fragment"
    },
    "tags": []
   },
   "source": [
    "This is more cumbersome when you want to apply a mathematical formula to every item of a collection, but it is also considerably slower. Every step in a Python `for` loop performs sanity checks that are unnecessary for numerical values with uniform type, checks that would happen at compile-time in a compiled library. NumPy is a compiled library; its `*`, `%`, and `==` operators, as well as many other functions, are performed in fast, compiled loops.\n",
    "\n",
    "This is how we get expressiveness and speed. Languages with operators that apply array at a time, rather than one scalar value at a time, are called “array-oriented” or “columnar” (referring to, for instance, Pandas DataFrame columns).\n",
    "\n",
    "More about this on Wednesday!\n",
    "\n",
    "<center>\n",
    "<img src=\"images/cda.png\" style=\"height:200px;\"/>\n",
    "</center>"
   ]
  },
  {
   "cell_type": "markdown",
   "id": "44125a28-bd05-4a29-8245-4da88b692d8b",
   "metadata": {
    "editable": true,
    "slideshow": {
     "slide_type": "slide"
    },
    "tags": []
   },
   "source": [
    "# Let's start by looking at our first tool from Scikit-HEP\n",
    "\n",
    "<center>\n",
    "<img src=\"images/uproot_logo.png\" style=\"height:200px;\"/>\n",
    "</center>"
   ]
  },
  {
   "cell_type": "markdown",
   "id": "1a187e56-63fc-444f-8353-7ddc3b1798a7",
   "metadata": {
    "editable": true,
    "slideshow": {
     "slide_type": "fragment"
    },
    "tags": []
   },
   "source": [
    "Uproot is a Python package that reads and writes ROOT files."
   ]
  },
  {
   "cell_type": "markdown",
   "id": "beaa47d7-f481-44a1-a712-91d2d931db7a",
   "metadata": {
    "editable": true,
    "slideshow": {
     "slide_type": "fragment"
    },
    "tags": []
   },
   "source": [
    "Uproot is only concerned with ROOT I/O. Once it reads the data, it passes it on to NumPy/Awkward/Pandas for data manipulations, to boost-histogram/hist for histogram manipulations, to Vector for Lorentz vector manipulations, etc.\n",
    "\n",
    "<center>\n",
    "<img src=\"images/skhep-stack.png\" style=\"height:350px;\"/>\n",
    "</center>"
   ]
  },
  {
   "cell_type": "markdown",
   "id": "f07394c0-001e-4a65-85c2-40a3b305c016",
   "metadata": {
    "editable": true,
    "slideshow": {
     "slide_type": "fragment"
    },
    "tags": []
   },
   "source": [
    "Similarly, it takes input from these other packages to write them into a ROOT file."
   ]
  },
  {
   "cell_type": "markdown",
   "id": "aa2e5b60-7fc7-4f48-a6ed-a1e479fee9cb",
   "metadata": {
    "editable": true,
    "slideshow": {
     "slide_type": "slide"
    },
    "tags": []
   },
   "source": [
    "# Reading data from a file"
   ]
  },
  {
   "cell_type": "markdown",
   "id": "d67798cf-353f-4ae1-829d-8c19f2d0c924",
   "metadata": {
    "editable": true,
    "slideshow": {
     "slide_type": "slide"
    },
    "tags": []
   },
   "source": [
    "## Opening a file\n",
    "\n",
    "To open a file for reading, pass the name of the file to [uproot.open](https://uproot.readthedocs.io/en/latest/uproot.reading.open.html). In scripts, it is good practice to use [Python’s with statement](https://realpython.com/python-with-statement/) to close the file when you’re done, but if you’re working interactively, you can use a direct assignment."
   ]
  },
  {
   "cell_type": "code",
   "execution_count": null,
   "id": "c907fcae-cf27-48d7-815e-32aca447b77a",
   "metadata": {
    "editable": true,
    "slideshow": {
     "slide_type": "fragment"
    },
    "tags": []
   },
   "outputs": [],
   "source": [
    "# this package gives us access to a collection of test files\n",
    "%pip install scikit-hep-testdata"
   ]
  },
  {
   "cell_type": "code",
   "execution_count": 11,
   "id": "a364ba8a-0573-4fda-86ad-eebe50b7c7c5",
   "metadata": {
    "editable": true,
    "slideshow": {
     "slide_type": "fragment"
    },
    "tags": []
   },
   "outputs": [],
   "source": [
    "import skhep_testdata\n",
    "\n",
    "filename = skhep_testdata.data_path(\n",
    "    \"uproot-Event.root\"\n",
    ")  # downloads this test file and gets a local path to it\n",
    "\n",
    "import uproot\n",
    "\n",
    "file = uproot.open(filename)"
   ]
  },
  {
   "cell_type": "markdown",
   "id": "af9f7248-ff3b-4794-9334-cc2c2f7093bf",
   "metadata": {
    "editable": true,
    "slideshow": {
     "slide_type": "fragment"
    },
    "tags": []
   },
   "source": [
    "To access a remote file via HTTP or XRootD, use a `\"http://...\"`, `\"https://...\"`, or `\"root://...\"` URL. If the Python interface to XRootD is not installed, the error message will explain how to install it."
   ]
  },
  {
   "cell_type": "markdown",
   "id": "50e893b6-c1ab-44fb-bb44-4ef4e83a6c6c",
   "metadata": {
    "editable": true,
    "slideshow": {
     "slide_type": "slide"
    },
    "tags": []
   },
   "source": [
    "## Listing contents\n",
    "\n",
    "This `file` object actually represents a directory, and the named objects in that directory are accessible with a dict-like interface. Thus, `keys`, `values`, and `items` return the key names and/or read the data. If you want to just list the objects without reading, use `keys`. (This is like ROOT’s `ls()`, except that you get a Python list.)"
   ]
  },
  {
   "cell_type": "code",
   "execution_count": 119,
   "id": "cf5eeb17-74ed-4bc3-a7cc-cb0bb7f7c6cd",
   "metadata": {
    "editable": true,
    "slideshow": {
     "slide_type": "fragment"
    },
    "tags": []
   },
   "outputs": [
    {
     "data": {
      "text/plain": [
       "['ProcessID0;1', 'htime;1', 'T;1', 'hstat;1']"
      ]
     },
     "execution_count": 119,
     "metadata": {},
     "output_type": "execute_result"
    }
   ],
   "source": [
    "file.keys()"
   ]
  },
  {
   "cell_type": "markdown",
   "id": "813572ca-3215-47c4-b3dc-a08ae68646f1",
   "metadata": {
    "editable": true,
    "slideshow": {
     "slide_type": "fragment"
    },
    "tags": []
   },
   "source": [
    "Often, you want to know the type of each object as well, so [uproot.ReadOnlyDirectory](https://uproot.readthedocs.io/en/latest/uproot.reading.ReadOnlyDirectory.html) objects also have a `classnames` method, which returns a dict of object names to class names (without reading them)."
   ]
  },
  {
   "cell_type": "code",
   "execution_count": 120,
   "id": "d617c6f5-d8e6-4119-af41-6af75f761e35",
   "metadata": {
    "editable": true,
    "slideshow": {
     "slide_type": "fragment"
    },
    "tags": []
   },
   "outputs": [
    {
     "data": {
      "text/plain": [
       "{'ProcessID0;1': 'TProcessID',\n",
       " 'htime;1': 'TH1F',\n",
       " 'T;1': 'TTree',\n",
       " 'hstat;1': 'TH1F'}"
      ]
     },
     "execution_count": 120,
     "metadata": {},
     "output_type": "execute_result"
    }
   ],
   "source": [
    "file.classnames()"
   ]
  },
  {
   "cell_type": "markdown",
   "id": "c12d6d8d-27c5-4d21-a5a2-b55ce5608bf8",
   "metadata": {
    "editable": true,
    "slideshow": {
     "slide_type": "fragment"
    },
    "tags": []
   },
   "source": [
    " "
   ]
  },
  {
   "cell_type": "markdown",
   "id": "042c30ea-5678-4d31-9c73-50251633480e",
   "metadata": {
    "editable": true,
    "slideshow": {
     "slide_type": "fragment"
    },
    "tags": []
   },
   "source": [
    "## Reading a histogram\n",
    "\n",
    "If you’re familiar with ROOT, `TH1F` would be recognizable as histograms and `TTree` would be recognizable as a dataset. To read one of the histograms, put its name in square brackets:"
   ]
  },
  {
   "cell_type": "code",
   "execution_count": 121,
   "id": "f629f77c-5c61-4998-8aac-fe676178ba2a",
   "metadata": {
    "editable": true,
    "slideshow": {
     "slide_type": "fragment"
    },
    "tags": []
   },
   "outputs": [
    {
     "data": {
      "text/plain": [
       "<TH1F (version 2) at 0x00011d7c2560>"
      ]
     },
     "execution_count": 121,
     "metadata": {},
     "output_type": "execute_result"
    }
   ],
   "source": [
    "h = file[\"hstat\"]\n",
    "h"
   ]
  },
  {
   "cell_type": "markdown",
   "id": "8d121a5d-cb86-4e5d-ad67-2ab3a7a00a27",
   "metadata": {
    "editable": true,
    "slideshow": {
     "slide_type": "fragment"
    },
    "tags": []
   },
   "source": [
    "Uproot doesn’t do any plotting or histogram manipulation, so the most useful methods of `h` begin with “to”: `to_boost` (boost-histogram), `to_hist` (hist), `to_numpy` (NumPy’s 2-tuple of contents and edges), `to_pyroot` (PyROOT), etc."
   ]
  },
  {
   "cell_type": "code",
   "execution_count": 122,
   "id": "ee2fe154-d3f9-4a25-a04a-542de08338d7",
   "metadata": {
    "editable": true,
    "slideshow": {
     "slide_type": "fragment"
    },
    "tags": []
   },
   "outputs": [
    {
     "data": {
      "text/plain": [
       "[StairsArtists(stairs=<matplotlib.patches.StepPatch object at 0x14c4fd180>, errorbar=<ErrorbarContainer object of 3 artists>, legend_artist=<ErrorbarContainer object of 3 artists>)]"
      ]
     },
     "execution_count": 122,
     "metadata": {},
     "output_type": "execute_result"
    },
    {
     "data": {
      "image/png": "[encoded data removed]",
      "text/plain": [
       "<Figure size 640x480 with 1 Axes>"
      ]
     },
     "metadata": {},
     "output_type": "display_data"
    }
   ],
   "source": [
    "h.to_hist().plot()"
   ]
  },
  {
   "cell_type": "markdown",
   "id": "fafc4fc1-7332-4326-b0d4-f873bb010223",
   "metadata": {
    "editable": true,
    "slideshow": {
     "slide_type": "fragment"
    },
    "tags": []
   },
   "source": [
    "Uproot histograms also satisfy the [UHI plotting protocol](https://uhi.readthedocs.io/en/latest/plotting.html), so they have methods like `values` (bin contents), `variances` (errors squared), and `axes`."
   ]
  },
  {
   "cell_type": "code",
   "execution_count": 123,
   "id": "b8f86999-ccb1-46f9-8761-d120d3a76374",
   "metadata": {
    "editable": true,
    "slideshow": {
     "slide_type": "fragment"
    },
    "tags": []
   },
   "outputs": [
    {
     "data": {
      "text/plain": [
       "array([14., 18., 14., 11., 15., 13., 12., 13.,  8.,  8.,  9., 10., 10.,\n",
       "        7.,  8., 10.,  8., 12.,  6.,  8.,  7.,  9., 10., 12., 10., 11.,\n",
       "       10., 10., 10.,  8., 14., 13.,  9.,  7., 12., 10.,  7.,  6.,  9.,\n",
       "       13., 11.,  8., 10.,  9.,  7.,  4.,  7., 10.,  8.,  8.,  9.,  9.,\n",
       "        7., 12., 11.,  9., 10.,  7., 10., 13., 13., 11.,  9.,  9.,  8.,\n",
       "        8., 10., 12.,  7.,  5.,  9., 10., 12., 13., 10., 14., 10., 10.,\n",
       "        8., 12., 12., 11., 16., 12.,  8., 12.,  7.,  9.,  9.,  7., 10.,\n",
       "        7., 11., 11.,  8., 13.,  9.,  8., 14., 16.], dtype=float32)"
      ]
     },
     "execution_count": 123,
     "metadata": {},
     "output_type": "execute_result"
    }
   ],
   "source": [
    "h.values()"
   ]
  },
  {
   "cell_type": "code",
   "execution_count": 124,
   "id": "b31a548f-eb5c-4874-86c8-d6b098661963",
   "metadata": {
    "editable": true,
    "slideshow": {
     "slide_type": "fragment"
    },
    "tags": []
   },
   "outputs": [
    {
     "data": {
      "text/plain": [
       "array([14., 18., 14., 11., 15., 13., 12., 13.,  8.,  8.,  9., 10., 10.,\n",
       "        7.,  8., 10.,  8., 12.,  6.,  8.,  7.,  9., 10., 12., 10., 11.,\n",
       "       10., 10., 10.,  8., 14., 13.,  9.,  7., 12., 10.,  7.,  6.,  9.,\n",
       "       13., 11.,  8., 10.,  9.,  7.,  4.,  7., 10.,  8.,  8.,  9.,  9.,\n",
       "        7., 12., 11.,  9., 10.,  7., 10., 13., 13., 11.,  9.,  9.,  8.,\n",
       "        8., 10., 12.,  7.,  5.,  9., 10., 12., 13., 10., 14., 10., 10.,\n",
       "        8., 12., 12., 11., 16., 12.,  8., 12.,  7.,  9.,  9.,  7., 10.,\n",
       "        7., 11., 11.,  8., 13.,  9.,  8., 14., 16.])"
      ]
     },
     "execution_count": 124,
     "metadata": {},
     "output_type": "execute_result"
    }
   ],
   "source": [
    "h.variances()"
   ]
  },
  {
   "cell_type": "code",
   "execution_count": 125,
   "id": "e9d6a2e4-25bd-465c-aa9e-c7fd511305f6",
   "metadata": {
    "editable": true,
    "slideshow": {
     "slide_type": "fragment"
    },
    "tags": []
   },
   "outputs": [
    {
     "data": {
      "text/plain": [
       "[array([0.  , 0.01]),\n",
       " array([0.01, 0.02]),\n",
       " array([0.02, 0.03]),\n",
       " array([0.03, 0.04]),\n",
       " array([0.04, 0.05]),\n",
       " array([0.05, 0.06]),\n",
       " array([0.06, 0.07]),\n",
       " array([0.07, 0.08]),\n",
       " array([0.08, 0.09]),\n",
       " array([0.09, 0.1 ]),\n",
       " array([0.1 , 0.11]),\n",
       " array([0.11, 0.12]),\n",
       " array([0.12, 0.13]),\n",
       " array([0.13, 0.14]),\n",
       " array([0.14, 0.15]),\n",
       " array([0.15, 0.16]),\n",
       " array([0.16, 0.17]),\n",
       " array([0.17, 0.18]),\n",
       " array([0.18, 0.19]),\n",
       " array([0.19, 0.2 ]),\n",
       " array([0.2 , 0.21]),\n",
       " array([0.21, 0.22]),\n",
       " array([0.22, 0.23]),\n",
       " array([0.23, 0.24]),\n",
       " array([0.24, 0.25]),\n",
       " array([0.25, 0.26]),\n",
       " array([0.26, 0.27]),\n",
       " array([0.27, 0.28]),\n",
       " array([0.28, 0.29]),\n",
       " array([0.29, 0.3 ]),\n",
       " array([0.3 , 0.31]),\n",
       " array([0.31, 0.32]),\n",
       " array([0.32, 0.33]),\n",
       " array([0.33, 0.34]),\n",
       " array([0.34, 0.35]),\n",
       " array([0.35, 0.36]),\n",
       " array([0.36, 0.37]),\n",
       " array([0.37, 0.38]),\n",
       " array([0.38, 0.39]),\n",
       " array([0.39, 0.4 ]),\n",
       " array([0.4 , 0.41]),\n",
       " array([0.41, 0.42]),\n",
       " array([0.42, 0.43]),\n",
       " array([0.43, 0.44]),\n",
       " array([0.44, 0.45]),\n",
       " array([0.45, 0.46]),\n",
       " array([0.46, 0.47]),\n",
       " array([0.47, 0.48]),\n",
       " array([0.48, 0.49]),\n",
       " array([0.49, 0.5 ]),\n",
       " array([0.5 , 0.51]),\n",
       " array([0.51, 0.52]),\n",
       " array([0.52, 0.53]),\n",
       " array([0.53, 0.54]),\n",
       " array([0.54, 0.55]),\n",
       " array([0.55, 0.56]),\n",
       " array([0.56, 0.57]),\n",
       " array([0.57, 0.58]),\n",
       " array([0.58, 0.59]),\n",
       " array([0.59, 0.6 ]),\n",
       " array([0.6 , 0.61]),\n",
       " array([0.61, 0.62]),\n",
       " array([0.62, 0.63]),\n",
       " array([0.63, 0.64]),\n",
       " array([0.64, 0.65]),\n",
       " array([0.65, 0.66]),\n",
       " array([0.66, 0.67]),\n",
       " array([0.67, 0.68]),\n",
       " array([0.68, 0.69]),\n",
       " array([0.69, 0.7 ]),\n",
       " array([0.7 , 0.71]),\n",
       " array([0.71, 0.72]),\n",
       " array([0.72, 0.73]),\n",
       " array([0.73, 0.74]),\n",
       " array([0.74, 0.75]),\n",
       " array([0.75, 0.76]),\n",
       " array([0.76, 0.77]),\n",
       " array([0.77, 0.78]),\n",
       " array([0.78, 0.79]),\n",
       " array([0.79, 0.8 ]),\n",
       " array([0.8 , 0.81]),\n",
       " array([0.81, 0.82]),\n",
       " array([0.82, 0.83]),\n",
       " array([0.83, 0.84]),\n",
       " array([0.84, 0.85]),\n",
       " array([0.85, 0.86]),\n",
       " array([0.86, 0.87]),\n",
       " array([0.87, 0.88]),\n",
       " array([0.88, 0.89]),\n",
       " array([0.89, 0.9 ]),\n",
       " array([0.9 , 0.91]),\n",
       " array([0.91, 0.92]),\n",
       " array([0.92, 0.93]),\n",
       " array([0.93, 0.94]),\n",
       " array([0.94, 0.95]),\n",
       " array([0.95, 0.96]),\n",
       " array([0.96, 0.97]),\n",
       " array([0.97, 0.98]),\n",
       " array([0.98, 0.99]),\n",
       " array([0.99, 1.  ])]"
      ]
     },
     "execution_count": 125,
     "metadata": {},
     "output_type": "execute_result"
    }
   ],
   "source": [
    "list(h.axes[0])  # \"x\", \"y\", \"z\" or 0, 1, 2"
   ]
  },
  {
   "cell_type": "markdown",
   "id": "1960d0fc-0a75-41dc-9265-a869eabb5b2c",
   "metadata": {
    "editable": true,
    "slideshow": {
     "slide_type": "fragment"
    },
    "tags": []
   },
   "source": [
    " "
   ]
  },
  {
   "cell_type": "markdown",
   "id": "81885783-5eff-4bb2-a9d0-707ca793ef36",
   "metadata": {
    "editable": true,
    "slideshow": {
     "slide_type": "slide"
    },
    "tags": []
   },
   "source": [
    "## Reading a TTree\n",
    "\n",
    "A TTree represents a potentially large dataset. Getting it from the [uproot.ReadOnlyDirectory](https://uproot.readthedocs.io/en/latest/uproot.reading.ReadOnlyDirectory.html) only returns its TBranch names and types. The `show` method is a convenient way to list its contents:"
   ]
  },
  {
   "cell_type": "code",
   "execution_count": 126,
   "id": "eabd0c47-4892-47bd-82cf-0983489fde1c",
   "metadata": {
    "editable": true,
    "slideshow": {
     "slide_type": "fragment"
    },
    "tags": []
   },
   "outputs": [
    {
     "name": "stdout",
     "output_type": "stream",
     "text": [
      "name                 | typename                 | interpretation                \n",
      "---------------------+--------------------------+-------------------------------\n",
      "event                | Event                    | AsGroup(<TBranchElement 'ev...\n",
      "event/TObject        | (group of fUniqueID:u... | AsGroup(<TBranchElement 'TO...\n",
      "event/TObject/fUn... | uint32_t                 | AsDtype('>u4')\n",
      "event/TObject/fBits  | uint32_t                 | AsDtype('>u4')\n",
      "event/fType[20]      | int8_t[20]               | AsDtype(\"('i1', (20,))\")\n",
      "event/fEventName     | char*                    | AsStrings(length_bytes='4')\n",
      "event/fNtrack        | int32_t                  | AsDtype('>i4')\n",
      "event/fNseg          | int32_t                  | AsDtype('>i4')\n",
      "event/fNvertex       | uint32_t                 | AsDtype('>u4')\n",
      "event/fFlag          | uint32_t                 | AsDtype('>u4')\n",
      "event/fTemperature   | float                    | AsDtype('>f4', 'float64')\n",
      "event/fMeasures[10]  | int32_t[10]              | AsDtype(\"('>i4', (10,))\")\n",
      "event/fMatrix[4][4]  | float[4][4]              | AsDtype(\"('>f4', (4, 4))\", ...\n",
      "event/fClosestDis... | unknown[]                | AsObjects(AsArray(False, Tr...\n",
      "event/fEvtHdr        | EventHeader              | AsGroup(<TBranchElement 'fE...\n",
      "event/fEvtHdr/fEv... | int32_t                  | AsDtype('>i4')\n",
      "event/fEvtHdr/fEv... | int32_t                  | AsDtype('>i4')\n",
      "event/fEvtHdr/fEv... | int32_t                  | AsDtype('>i4')\n",
      "event/fTracks        | TClonesArray*            | AsGroup(<TBranchElement 'fT...\n",
      "event/fTracks/fTr... | uint32_t[]               | AsJagged(AsDtype('>u4'))\n",
      "event/fTracks/fTr... | uint32_t[]               | AsJagged(AsDtype('>u4'))\n",
      "event/fTracks/fTr... | float[]                  | AsJagged(AsDtype('>f4'))\n",
      "event/fTracks/fTr... | float[]                  | AsJagged(AsDtype('>f4'))\n",
      "event/fTracks/fTr... | float[]                  | AsJagged(AsDtype('>f4'))\n",
      "event/fTracks/fTr... | float[]                  | AsJagged(AsDtype('>f4'))\n",
      "event/fTracks/fTr... | Float16_t[]              | AsJagged(AsFloat16(0.0, 0.0...\n",
      "event/fTracks/fTr... | Float16_t[]              | AsJagged(AsFloat16(0.0, 0.0...\n",
      "event/fTracks/fTr... | Float16_t[]              | AsJagged(AsFloat16(0.0, 0.0...\n",
      "event/fTracks/fTr... | float[]                  | AsJagged(AsDtype('>f4'))\n",
      "event/fTracks/fTr... | Float16_t[]              | AsJagged(AsFloat16(0, 0, 12))\n",
      "event/fTracks/fTr... | Float16_t[]              | AsJagged(AsFloat16(0, 0, 12))\n",
      "event/fTracks/fTr... | Float16_t[]              | AsJagged(AsFloat16(0, 0, 12))\n",
      "event/fTracks/fTr... | Float16_t[]              | AsJagged(AsFloat16(0, 0, 12))\n",
      "event/fTracks/fTr... | Float16_t[]              | AsJagged(AsFloat16(0, 0, 12))\n",
      "event/fTracks/fTr... | Float16_t[]              | AsJagged(AsFloat16(0, 0, 12))\n",
      "event/fTracks/fTr... | Double32_t[]             | AsJagged(AsDouble32(-1.0, 1...\n",
      "event/fTracks/fTr... | Double32_t[][3]          | AsJagged(AsDouble32(-30.0, ...\n",
      "event/fTracks/fTr... | int32_t[]                | AsJagged(AsDtype('>i4'))\n",
      "event/fTracks/fTr... | int16_t[]                | AsJagged(AsDtype('>i2'))\n",
      "event/fTracks/fTr... | uint32_t[]               | AsJagged(AsDtype('>u4'))\n",
      "event/fTracks/fTr... | unknown[][]              | AsObjects(AsArray(True, Fal...\n",
      "event/fTracks/fTr... | uint32_t[]               | AsJagged(AsDtype('>u4'))\n",
      "event/fTracks/fTr... | uint32_t[]               | AsJagged(AsDtype('>u4'))\n",
      "event/fTracks/fTr... | uint32_t[]               | AsJagged(AsDtype('>u4'))\n",
      "event/fTracks/fTr... | uint32_t[]               | AsJagged(AsDtype('>u4'))\n",
      "event/fTracks/fTr... | uint8_t[][]              | AsObjects(AsArray(True, Fal...\n",
      "event/fTracks/fTr... | float[][3]               | AsJagged(AsDtype(\"('>f4', (...\n",
      "event/fHighPt        | TRefArray*               | AsObjects(AsPointer(Model_T...\n",
      "event/fMuons         | TRefArray*               | AsObjects(AsPointer(Model_T...\n",
      "event/fLastTrack     | TRef                     | AsStridedObjects(Model_TRef)\n",
      "event/fWebHistogram  | TRef                     | AsStridedObjects(Model_TRef)\n",
      "event/fH             | TH1F                     | AsObjects(Model_TH1F)\n",
      "event/fTriggerBits   | TBits                    | AsGroup(<TBranchElement 'fT...\n",
      "event/fTriggerBit... | (group of fTriggerBit... | AsGroup(<TBranchElement 'fT...\n",
      "event/fTriggerBit... | uint32_t                 | AsDtype('>u4')\n",
      "event/fTriggerBit... | uint32_t                 | AsDtype('>u4')\n",
      "event/fTriggerBit... | uint32_t                 | AsDtype('>u4')\n",
      "event/fTriggerBit... | uint32_t                 | AsDtype('>u4')\n",
      "event/fTriggerBit... | uint8_t[]                | AsJagged(AsDtype('uint8'), ...\n",
      "event/fIsValid       | bool                     | AsDtype('bool')\n"
     ]
    }
   ],
   "source": [
    "t = file[\"T\"]\n",
    "t.show()"
   ]
  },
  {
   "cell_type": "markdown",
   "id": "c52d588b-b892-4b79-a43c-0dce47fc636b",
   "metadata": {
    "editable": true,
    "slideshow": {
     "slide_type": "fragment"
    },
    "tags": []
   },
   "source": [
    "Be aware that you can get the same information from `keys` (an [uproot.TTree](https://uproot.readthedocs.io/en/latest/uproot.behaviors.TTree.TTree.html) is dict-like), `typename`, and `interpretation`."
   ]
  },
  {
   "cell_type": "code",
   "execution_count": 129,
   "id": "a5e33954-5d66-49ef-b09f-6c97eb7dc3c3",
   "metadata": {
    "editable": true,
    "slideshow": {
     "slide_type": "fragment"
    },
    "tags": []
   },
   "outputs": [
    {
     "data": {
      "text/plain": [
       "('event/fIsValid', 'bool', AsDtype('bool'))"
      ]
     },
     "execution_count": 129,
     "metadata": {},
     "output_type": "execute_result"
    }
   ],
   "source": [
    "last_key = t.keys()[-1]\n",
    "last_key, t[last_key].typename, t[last_key].interpretation"
   ]
  },
  {
   "cell_type": "markdown",
   "id": "69ccc1ce-3ef0-4b16-8ab7-93075a161eac",
   "metadata": {
    "editable": true,
    "slideshow": {
     "slide_type": "fragment"
    },
    "tags": []
   },
   "source": [
    "(If an [uproot.TBranch](https://uproot.readthedocs.io/en/latest/uproot.behaviors.TBranch.TBranch.html) has no `interpretation`, it can’t be read by Uproot.)\n",
    "\n",
    "The most direct way to read data from an [uproot.TBranch](https://uproot.readthedocs.io/en/latest/uproot.behaviors.TBranch.TBranch.html) is by calling its `array` method."
   ]
  },
  {
   "cell_type": "code",
   "execution_count": 130,
   "id": "2d26e99a-1913-44ce-a18c-b2967e2b1075",
   "metadata": {
    "editable": true,
    "slideshow": {
     "slide_type": "fragment"
    },
    "tags": []
   },
   "outputs": [
    {
     "data": {
      "text/html": [
       "<pre>[600,\n",
       " 604,\n",
       " 603,\n",
       " 594,\n",
       " 595,\n",
       " 598,\n",
       " 595,\n",
       " 600,\n",
       " 592,\n",
       " 598,\n",
       " ...,\n",
       " 603,\n",
       " 605,\n",
       " 609,\n",
       " 599,\n",
       " 587,\n",
       " 598,\n",
       " 600,\n",
       " 596,\n",
       " 593]\n",
       "-----\n",
       "backend: cpu\n",
       "nbytes: 4.0 kB\n",
       "type: 1000 * int32</pre>"
      ],
      "text/plain": [
       "<Array [600, 604, 603, 594, 595, ..., 598, 600, 596, 593] type='1000 * int32'>"
      ]
     },
     "execution_count": 130,
     "metadata": {},
     "output_type": "execute_result"
    }
   ],
   "source": [
    "t[\"event/fNtrack\"].array()"
   ]
  },
  {
   "cell_type": "markdown",
   "id": "7daa2bab-0216-46ff-a996-db46fe185671",
   "metadata": {
    "editable": true,
    "slideshow": {
     "slide_type": "slide"
    },
    "tags": []
   },
   "source": [
    "## Reading a… what is that?\n",
    "\n",
    "This file also contains an instance of type [TProcessID](https://root.cern.ch/doc/master/classTProcessID.html). These aren’t typically useful in data analysis, but Uproot manages to read it anyway because it follows certain conventions (it has “class streamers”). It’s presented as a generic object with an `all_members` property for its data members (through all superclasses)."
   ]
  },
  {
   "cell_type": "code",
   "execution_count": 15,
   "id": "b215b9ff-c305-44f5-a8ed-57655f5ee510",
   "metadata": {
    "editable": true,
    "slideshow": {
     "slide_type": "fragment"
    },
    "tags": []
   },
   "outputs": [
    {
     "name": "stdout",
     "output_type": "stream",
     "text": [
      "<TProcessID (version 1) at 0x000107e81600>\n",
      "{'@fUniqueID': 0, '@fBits': 50331648, 'fName': 'ProcessID0', 'fTitle': '3ec87674-3aa2-11e9-bb02-0301a8c0beef'}\n"
     ]
    }
   ],
   "source": [
    "print(file[\"ProcessID0\"])\n",
    "print(file[\"ProcessID0\"].all_members)"
   ]
  },
  {
   "cell_type": "markdown",
   "id": "1e334ddd-65e9-4cca-9bcd-8f1bd13b67ff",
   "metadata": {
    "editable": true,
    "slideshow": {
     "slide_type": "fragment"
    },
    "tags": []
   },
   "source": [
    "Here’s a more useful example of that: a supernova search with the IceCube experiment has custom classes for its data, which Uproot reads and represents as objects with `all_members`."
   ]
  },
  {
   "cell_type": "code",
   "execution_count": 16,
   "id": "8b72f8c6-36b9-4f98-9069-165da96cd38e",
   "metadata": {
    "editable": true,
    "slideshow": {
     "slide_type": "fragment"
    },
    "tags": []
   },
   "outputs": [
    {
     "data": {
      "text/plain": [
       "{'config;1': 'TDirectory',\n",
       " 'config/analysis;1': 'SN_Analysis_Configuration_t',\n",
       " 'config/detector;1': 'I3Eval_t',\n",
       " 'config/run;1': 'SN_File_t',\n",
       " 'sn_all;1': 'TTree',\n",
       " 'sn_gps;1': 'TTree',\n",
       " 'sn_range;1': 'TTree',\n",
       " 'sn_o2rout;1': 'TTree',\n",
       " 'sn_o2cand;1': 'TTree',\n",
       " 'sn_omwatch;1': 'TTree',\n",
       " 'sn_sigsim;1': 'TTree'}"
      ]
     },
     "execution_count": 16,
     "metadata": {},
     "output_type": "execute_result"
    }
   ],
   "source": [
    "icecube = uproot.open(skhep_testdata.data_path(\"uproot-issue283.root\"))\n",
    "icecube.classnames()"
   ]
  },
  {
   "cell_type": "code",
   "execution_count": 18,
   "id": "cb13a4a8-917a-4fb1-8aa0-d916fea8bfac",
   "metadata": {
    "editable": true,
    "slideshow": {
     "slide_type": "fragment"
    },
    "tags": []
   },
   "outputs": [
    {
     "data": {
      "text/plain": [
       "{'@fUniqueID': 0,\n",
       " '@fBits': 50331648,\n",
       " 'theDataArray': <Sni3DataArray (version 1) at 0x000123317400>,\n",
       " 'NumberOfChannels': 5160,\n",
       " 'NoAvailableSlices': -1,\n",
       " 'AvailableDataSize': 0,\n",
       " 'mGPSCardId': 0,\n",
       " 'mGPSPrescale': 20000000,\n",
       " 'mGPSEventNo': 92824,\n",
       " 'mScalerCardId': 0,\n",
       " 'mScalerStartChannel': 0,\n",
       " 'StartUTC': 272924620173109013,\n",
       " 'MaxChannels': 5160,\n",
       " 'mMaxJitterLogs': 20,\n",
       " 'Channel': <I3Eval_t::ChannelContainer_t (version 1) at 0x000123317ac0>,\n",
       " 'ChannelIDMap': <STLMap {46612627560: 896, ..., 281410180683757: 2689} at 0x00012347f3a0>,\n",
       " 'BadChannelIDSet': <STLSet {58348614635591, 60068372029697, ..., 258905191174588} at 0x00012347f430>,\n",
       " 'ChannelID': array([ 47303335284587,  20579555797555, 106634453247646, ...,\n",
       "        255380957221937, 107432791511293, 280205879548048],\n",
       "       shape=(5160,), dtype='>i8'),\n",
       " 'Deadtime': array([250., 250., 250., ..., 250., 250., 250.],\n",
       "       shape=(5160,), dtype='>f8'),\n",
       " 'Efficiency': array([1.  , 1.  , 1.  , ..., 1.35, 1.35, 1.35],\n",
       "       shape=(5160,), dtype='>f8')}"
      ]
     },
     "execution_count": 18,
     "metadata": {},
     "output_type": "execute_result"
    }
   ],
   "source": [
    "icecube[\"config/detector\"].all_members"
   ]
  },
  {
   "cell_type": "code",
   "execution_count": 19,
   "id": "9fbcc712-395f-4fc8-8ce2-13cc5b898a00",
   "metadata": {
    "editable": true,
    "slideshow": {
     "slide_type": "fragment"
    },
    "tags": []
   },
   "outputs": [
    {
     "data": {
      "text/plain": [
       "<STLMap {46612627560: 896, ..., 281410180683757: 2689} at 0x00012347f3a0>"
      ]
     },
     "execution_count": 19,
     "metadata": {},
     "output_type": "execute_result"
    }
   ],
   "source": [
    "icecube[\"config/detector\"].all_members[\"ChannelIDMap\"]"
   ]
  },
  {
   "cell_type": "markdown",
   "id": "02a5beee-1d4b-4f16-9b9f-3e45678d6d87",
   "metadata": {
    "editable": true,
    "slideshow": {
     "slide_type": "fragment"
    },
    "tags": []
   },
   "source": [
    " "
   ]
  },
  {
   "cell_type": "markdown",
   "id": "795f17c4-fda4-4b85-a8bc-ded4409c4f8f",
   "metadata": {
    "editable": true,
    "slideshow": {
     "slide_type": "slide"
    },
    "tags": []
   },
   "source": [
    "# Writing data to a file\n",
    "\n",
    "Uproot’s ability to *write* data is more limited than its ability to *read* data, but some useful cases are possible."
   ]
  },
  {
   "cell_type": "markdown",
   "id": "2215970b-986e-4be5-940d-c35b8fc4ac92",
   "metadata": {
    "editable": true,
    "slideshow": {
     "slide_type": "slide"
    },
    "tags": []
   },
   "source": [
    "## Opening files for writing\n",
    "\n",
    "First of all, a file must be opened for writing, either by creating a completely new file or updating an existing one."
   ]
  },
  {
   "cell_type": "code",
   "execution_count": 20,
   "id": "c0140069-3618-4274-b3e4-b82ff85097ff",
   "metadata": {
    "editable": true,
    "slideshow": {
     "slide_type": "fragment"
    },
    "tags": []
   },
   "outputs": [],
   "source": [
    "output1 = uproot.recreate(\"completely-new-file.root\")\n",
    "# output2 = uproot.update(\"existing-file.root\")"
   ]
  },
  {
   "cell_type": "markdown",
   "id": "9a678003-6847-4011-ab70-a78d61d4a3df",
   "metadata": {
    "editable": true,
    "slideshow": {
     "slide_type": "fragment"
    },
    "tags": []
   },
   "source": [
    "(Uproot cannot write over a network; output files must be local.)"
   ]
  },
  {
   "cell_type": "markdown",
   "id": "96407920-77e3-4563-8fc9-ce3604ad387b",
   "metadata": {
    "editable": true,
    "slideshow": {
     "slide_type": "slide"
    },
    "tags": []
   },
   "source": [
    "## Writing strings and histograms\n",
    "\n",
    "These uproot.WritableDirectory objects have a dict-like interface: you can put data in them by assigning to square brackets."
   ]
  },
  {
   "cell_type": "code",
   "execution_count": 21,
   "id": "9fb0e2fe-a250-414e-a4eb-db192a3f1cb0",
   "metadata": {
    "editable": true,
    "slideshow": {
     "slide_type": "fragment"
    },
    "tags": []
   },
   "outputs": [],
   "source": [
    "output1[\"some_string\"] = \"This will be a TObjString.\"\n",
    "\n",
    "output1[\"some_histogram\"] = file[\"hstat\"]\n",
    "\n",
    "import numpy as np\n",
    "\n",
    "output1[\"nested_directory/another_histogram\"] = np.histogram(\n",
    "    np.random.normal(0, 1, 1000000)\n",
    ")"
   ]
  },
  {
   "cell_type": "markdown",
   "id": "807b53b3-063b-45cf-8567-7b2ee9175e34",
   "metadata": {
    "editable": true,
    "slideshow": {
     "slide_type": "fragment"
    },
    "tags": []
   },
   "source": [
    "In ROOT, the name of an object is a property of the object, but in Uproot, it’s a key in the TDirectory that holds the object, so that’s why the name is on the left-hand side of the assignment, in square brackets. Only the data types listed in the blue box [in the documentation](https://uproot.readthedocs.io/en/latest/basic.html#writing-objects-to-a-file) are supported: mostly just histograms."
   ]
  },
  {
   "cell_type": "markdown",
   "id": "b55e46d4-0b8a-447b-845e-8a56ced9714c",
   "metadata": {
    "editable": true,
    "slideshow": {
     "slide_type": "slide"
    },
    "tags": []
   },
   "source": [
    "## Writing TTrees\n",
    "\n",
    "TTrees are potentially large and might not fit in memory. Generally, you’ll need to write them in batches.\n",
    "\n",
    "One way to do this is to assign the first batch and extend it with subsequent batches:"
   ]
  },
  {
   "cell_type": "code",
   "execution_count": 22,
   "id": "56152ea0-ba55-4d12-ac70-1fb7e6936011",
   "metadata": {
    "editable": true,
    "slideshow": {
     "slide_type": "fragment"
    },
    "tags": []
   },
   "outputs": [],
   "source": [
    "import numpy as np\n",
    "\n",
    "output1[\"tree1\"] = {\n",
    "    \"x\": np.random.randint(0, 10, 1000000),\n",
    "    \"y\": np.random.normal(0, 1, 1000000),\n",
    "}\n",
    "output1[\"tree1\"].extend(\n",
    "    {\"x\": np.random.randint(0, 10, 1000000), \"y\": np.random.normal(0, 1, 1000000)}\n",
    ")\n",
    "output1[\"tree1\"].extend(\n",
    "    {\"x\": np.random.randint(0, 10, 1000000), \"y\": np.random.normal(0, 1, 1000000)}\n",
    ")"
   ]
  },
  {
   "cell_type": "markdown",
   "id": "3b1aa8a4-1bdf-4d20-b870-6d46ab25fa1b",
   "metadata": {
    "editable": true,
    "slideshow": {
     "slide_type": "fragment"
    },
    "tags": []
   },
   "source": [
    "another is to create an empty TTree with [uproot.WritableDirectory.mktree](https://uproot.readthedocs.io/en/latest/uproot.writing.writable.WritableDirectory.html#mktree), so that every write is an extension."
   ]
  },
  {
   "cell_type": "code",
   "execution_count": 23,
   "id": "497d389a-f9ed-4c98-81d7-753960179780",
   "metadata": {
    "editable": true,
    "slideshow": {
     "slide_type": "fragment"
    },
    "tags": []
   },
   "outputs": [],
   "source": [
    "output1.mktree(\"tree2\", {\"x\": np.int32, \"y\": np.float64})\n",
    "output1[\"tree2\"].extend(\n",
    "    {\"x\": np.random.randint(0, 10, 1000000), \"y\": np.random.normal(0, 1, 1000000)}\n",
    ")\n",
    "output1[\"tree2\"].extend(\n",
    "    {\"x\": np.random.randint(0, 10, 1000000), \"y\": np.random.normal(0, 1, 1000000)}\n",
    ")\n",
    "output1[\"tree2\"].extend(\n",
    "    {\"x\": np.random.randint(0, 10, 1000000), \"y\": np.random.normal(0, 1, 1000000)}\n",
    ")"
   ]
  },
  {
   "cell_type": "markdown",
   "id": "ceb40418-76b6-4b18-9383-e98e5898cd2e",
   "metadata": {
    "editable": true,
    "slideshow": {
     "slide_type": "fragment"
    },
    "tags": []
   },
   "source": [
    "In general, it pays to write few large batches, rather than many small batches.\n",
    "\n",
    "The only data types that can be assigned or passed to `extend` are listed in the blue box [in this documentation](https://uproot.readthedocs.io/en/latest/basic.html#writing-ttrees-to-a-file). This includes jagged arrays, but not more complex types."
   ]
  },
  {
   "cell_type": "markdown",
   "id": "3e2c6d69-4eca-4f72-9889-36601b302623",
   "metadata": {
    "editable": true,
    "slideshow": {
     "slide_type": "slide"
    },
    "tags": []
   },
   "source": [
    "## Reading and writing RNTuples\n",
    "\n",
    "TTree has been the default format to store large datasets in ROOT files for decades. However, it has slowly become outdated and are not optimized for modern systems. This is where the RNTuple format comes in. It is a modern serialization format that is designed with modern systems in mind and is planned to replace TTree in the coming years. Version [1.0.0.0](https://cds.cern.ch/record/2923186) is out and will be supported “forever”.\n",
    "\n",
    "RNTuples are much simpler than TTrees by design, and this time there is an official specification, which makes it much easier for third-party I/O packages like Uproot to support. Uproot already supports reading the full RNTuple specification, meaning that you can read any RNTuple you find in the wild. It also supports writing a large part of the specification, and intends to support as much as it makes sense for data analysis.\n",
    "\n",
    "To ease the transition into RNTuples, we are designing the interface to match the one for TTrees as closely as possible. Let’s look at a simple example for reading and writing RNTuples."
   ]
  },
  {
   "cell_type": "code",
   "execution_count": 44,
   "id": "fb852cff-043c-4337-b85f-a0289d3cfb86",
   "metadata": {
    "editable": true,
    "slideshow": {
     "slide_type": "fragment"
    },
    "tags": []
   },
   "outputs": [],
   "source": [
    "filename = skhep_testdata.data_path(\"test_stl_containers_rntuple_v1-0-0-0.root\")\n",
    "\n",
    "file = uproot.open(filename)"
   ]
  },
  {
   "cell_type": "markdown",
   "id": "9b58113d-41bc-42d3-904d-bd40d2e2e3b4",
   "metadata": {
    "editable": true,
    "slideshow": {
     "slide_type": "fragment"
    },
    "tags": []
   },
   "source": [
    "This time, if we print the class names, we see that there is an RNTuple instead of a TTree."
   ]
  },
  {
   "cell_type": "code",
   "execution_count": 45,
   "id": "f0cbc779-5bee-4b08-a10b-b1524b135c9b",
   "metadata": {
    "editable": true,
    "slideshow": {
     "slide_type": "fragment"
    },
    "tags": []
   },
   "outputs": [
    {
     "data": {
      "text/plain": [
       "{'ntuple;1': 'ROOT::RNTuple'}"
      ]
     },
     "execution_count": 45,
     "metadata": {},
     "output_type": "execute_result"
    }
   ],
   "source": [
    "file.classnames()"
   ]
  },
  {
   "cell_type": "code",
   "execution_count": 48,
   "id": "fae13fa6-0ca4-4092-8b4d-eab37c55afd9",
   "metadata": {
    "editable": true,
    "slideshow": {
     "slide_type": "fragment"
    },
    "tags": []
   },
   "outputs": [
    {
     "data": {
      "text/plain": [
       "['string',\n",
       " 'vector_int32',\n",
       " 'array_float',\n",
       " 'vector_vector_int32',\n",
       " 'vector_string',\n",
       " 'vector_vector_string',\n",
       " 'variant_int32_string',\n",
       " 'vector_variant_int64_string',\n",
       " 'tuple_int32_string',\n",
       " 'pair_int32_string',\n",
       " 'vector_tuple_int32_string',\n",
       " 'lorentz_vector',\n",
       " 'array_lv']"
      ]
     },
     "execution_count": 48,
     "metadata": {},
     "output_type": "execute_result"
    }
   ],
   "source": [
    "rntuple = file[\"ntuple\"]\n",
    "rntuple.keys(recursive=False)"
   ]
  },
  {
   "cell_type": "code",
   "execution_count": 49,
   "id": "590b6635-c3e5-48d8-88cf-94f600595c59",
   "metadata": {
    "editable": true,
    "slideshow": {
     "slide_type": "fragment"
    },
    "tags": []
   },
   "outputs": [
    {
     "data": {
      "text/html": [
       "<pre>[[1],\n",
       " [1, 2],\n",
       " [1, 2, 3],\n",
       " [1, 2, 3, 4],\n",
       " [1, 2, 3, 4, 5]]\n",
       "-----------------\n",
       "backend: cpu\n",
       "nbytes: 108 B\n",
       "type: 5 * var * int32</pre>"
      ],
      "text/plain": [
       "<Array [[1], [1, 2], ..., [1, ..., 4], [1, 2, 3, 4, 5]] type='5 * var * int32'>"
      ]
     },
     "execution_count": 49,
     "metadata": {},
     "output_type": "execute_result"
    }
   ],
   "source": [
    "rntuple[\"vector_int32\"].array()"
   ]
  },
  {
   "cell_type": "markdown",
   "id": "94218c2b-ce78-4911-b451-cc585fedc136",
   "metadata": {
    "editable": true,
    "slideshow": {
     "slide_type": "fragment"
    },
    "tags": []
   },
   "source": [
    "Writing again works in a very similar way to TTrees. However, since TTrees are still the default format used in more places, writing something like `file[key] = data` will default to writing the data as a TTree (but this will change in about 6 months!).\n",
    "\n",
    "For now, when we want to write an RNTuple, we need to specifically tell Uproot that we want to do so."
   ]
  },
  {
   "cell_type": "code",
   "execution_count": 29,
   "id": "8eab36d3-db31-45f9-8fe4-4197d637daf2",
   "metadata": {
    "editable": true,
    "slideshow": {
     "slide_type": "fragment"
    },
    "tags": []
   },
   "outputs": [],
   "source": [
    "data = {\"my_int_data\": [1, 2, 3], \"my_float_data\": [1.0, 2.0, 3.0]}\n",
    "more_data = {\"my_int_data\": [4, 5, 6], \"my_float_data\": [4.0, 5.0, 6.0]}\n",
    "\n",
    "output3 = uproot.recreate(\"new-file-with-rntuple.root\")\n",
    "\n",
    "rntuple = output3.mkrntuple(\"my_rntuple\", data)\n",
    "rntuple.extend(more_data)"
   ]
  },
  {
   "cell_type": "markdown",
   "id": "58e82d23-c79a-4b46-b558-9849529cc24b",
   "metadata": {
    "editable": true,
    "slideshow": {
     "slide_type": "fragment"
    },
    "tags": []
   },
   "source": [
    "For the rest of the tutorial we will mostly focus on TTrees since this is still the main data format that you’ll encounter for now."
   ]
  },
  {
   "cell_type": "markdown",
   "id": "3d658d3c-6fb8-43c8-adfc-582fdd8a520b",
   "metadata": {
    "editable": true,
    "slideshow": {
     "slide_type": "slide"
    },
    "tags": []
   },
   "source": [
    "## Exercise 1 (10 minutes)\n",
    "\n",
    "There is a file in `skhep_testdata` named `\"ntpl001_staff_rntuple_v1-0-0-0.root\"` that contains CERN staff data from 1988. As the name suggests, it is an RNTuple and not a TTree.\n",
    "\n",
    "1.  Open it with Uproot, look around at what's in there, and then find the number of French employees who were at least 35 years old, and had one or two children. For bonus points, use `with uproot.open(...) as f:` instead of `f = uproot.open(...)` to follow best practices.\n",
    "2.  With the selection from the previous part, make a histogram of the employee grade with `np.histogram(np.array(data))`, and save it to a new ROOT file. (You need to wrap the data with `np.array` due to a bug I found while writing this.)\n",
    "3.  Read back the file you just made. Open the histogram, use `to_hist()` to convert it to a `hist` histogram, and then plot it with `.plot()`.\n",
    "\n",
    "<details>\n",
    "<summary>\n",
    "Solution\n",
    "</summary>\n",
    "<pre>\n",
    "<code>\n",
    "import skhep_testdata\n",
    "import uproot\n",
    "import numpy as np\n",
    "\n",
    "with uproot.open(skhep_testdata.data_path(\"ntpl001_staff_rntuple_v1-0-0-0.root\")) as file:\n",
    "    staff = file[\"Staff\"]\n",
    "    staff_age = staff[\"Age\"].array()\n",
    "    staff_nation = staff[\"Nation\"].array()\n",
    "    staff_children = staff[\"Children\"].array()\n",
    "    staff_grade = staff[\"Grade\"].array()\n",
    "\n",
    "cut = (staff_nation == \"FR\") \\\n",
    "    & (staff_age >= 35) \\\n",
    "    & (1 <= staff_children) \\\n",
    "    & (2 >= staff_children)\n",
    "\n",
    "n = len(staff_age[cut])\n",
    "\n",
    "n = np.sum(cut) # A simpler alternative is to sum count the number of True values in cut\n",
    "\n",
    "print(f\"The number of employees with the selected criteria is {n}\")\n",
    "\n",
    "with uproot.recreate(\"my_file.root\") as file:\n",
    "    file[\"my_hist\"] = np.histogram(np.array(staff_grade[cut]))\n",
    "\n",
    "with uproot.open(\"my_file.root\") as file:\n",
    "    h = file[\"my_hist\"].to_hist()\n",
    "\n",
    "h.plot()\n",
    "</code>\n",
    "</pre>\n",
    "</details>"
   ]
  },
  {
   "cell_type": "code",
   "execution_count": 98,
   "id": "c2402cd3-55f5-44f2-8b8d-18603a707c19",
   "metadata": {
    "editable": true,
    "slideshow": {
     "slide_type": "fragment"
    },
    "tags": []
   },
   "outputs": [],
   "source": [
    "# Write your code here\n"
   ]
  },
  {
   "cell_type": "markdown",
   "id": "dbe111f5-f4ff-422e-8d1e-1fef4cd3c93f",
   "metadata": {
    "editable": true,
    "slideshow": {
     "slide_type": "fragment"
    },
    "tags": []
   },
   "source": [
    " "
   ]
  },
  {
   "cell_type": "markdown",
   "id": "5eca32aa-af9d-46c4-9dcc-97918b6c40c7",
   "metadata": {
    "editable": true,
    "slideshow": {
     "slide_type": "slide"
    },
    "tags": []
   },
   "source": [
    "# ROOT file structure and terminology\n",
    "\n",
    "A ROOT file ([ROOT TFile](https://root.cern.ch/doc/master/classTFile.html), [uproot.ReadOnlyFile](https://uproot.readthedocs.io/en/latest/uproot.reading.ReadOnlyFile.html)) is like a little filesystem containing nested directories ([ROOT TDirectory](https://root.cern.ch/doc/master/classTDirectory.html), [uproot.ReadOnlyDirectory](https://uproot.readthedocs.io/en/latest/uproot.reading.ReadOnlyDirectory.html)). In Uproot, nested directories are presented as nested dicts.\n",
    "\n",
    "Any class instance ([ROOT TObject](https://root.cern.ch/doc/master/classTObject.html), [uproot.Model](https://uproot.readthedocs.io/en/latest/uproot.model.Model.html)) can be stored in a directory, including types such as histograms (e.g. [ROOT TH1](https://root.cern.ch/doc/master/classTH1.html), [uproot.behaviors.TH1.TH1](https://uproot.readthedocs.io/en/latest/uproot.behaviors.TH1.TH1.html))."
   ]
  },
  {
   "cell_type": "markdown",
   "id": "80f5f3ee-5ddc-4e31-a673-2a2b809235fa",
   "metadata": {
    "editable": true,
    "slideshow": {
     "slide_type": "fragment"
    },
    "tags": []
   },
   "source": [
    "One of these classes, TTree ([ROOT TTree](https://root.cern.ch/doc/master/classTTree.html), [uproot.TTree](https://uproot.readthedocs.io/en/latest/uproot.behaviors.TTree.TTree.html)), is a gateway to large datasets. A TTree is roughly like a Pandas DataFrame in that it represents a table of data. The columns are called TBranches ([ROOT TBranch](https://root.cern.ch/doc/master/classTBranch.html), [uproot.TBranch](https://uproot.readthedocs.io/en/latest/uproot.behaviors.TBranch.TBranch.html)), which can be nested (unlike Pandas), and the data can have any C++ type (unlike Pandas, which can store any Python type).\n",
    "\n",
    "A TTree is often too large to fit in memory, and sometimes (rarely) even a single TBranch is too large to fit in memory. Each TBranch is therefore broken down into TBaskets ([ROOT TBasket](https://root.cern/doc/master/classTBasket.html), [uproot.models.TBasket.Model_TBasket](https://uproot.readthedocs.io/en/latest/uproot.models.TBasket.Model_TBasket.html)), which are \"batches\" of data. (These are the same batches that each call to `extend` writes in the previous lesson.) TBaskets are the smallest unit that can be read from a TTree: if you want to read the first entry, you have to read the first TBasket.\n",
    "\n",
    "<center>\n",
    "<img src=\"images/ttree-terminology.png\" style=\"height:500px;\"/>\n",
    "</center>"
   ]
  },
  {
   "cell_type": "markdown",
   "id": "e888cf57-6a47-43c3-afda-23c8110156dc",
   "metadata": {
    "editable": true,
    "slideshow": {
     "slide_type": "fragment"
    },
    "tags": []
   },
   "source": [
    "As a data analyst, you’ll likely be concerned with TTrees and TBranches first-hand, but only TBaskets when efficiency issues come up. Files with large TBaskets might require a lot of memory to read; files with small TBaskets will be slower to read (in ROOT also, but especially in Uproot). Megabyte-sized TBaskets are usually ideal."
   ]
  },
  {
   "cell_type": "markdown",
   "id": "739d653b-f17d-4df8-9d68-64d3d5e48174",
   "metadata": {
    "editable": true,
    "slideshow": {
     "slide_type": "slide"
    },
    "tags": []
   },
   "source": [
    "## Examples with a large TTree\n",
    "\n",
    "[This file](http://opendata.web.cern.ch/record/12341) is 2.1 GB, hosted by CERN's Open Data Portal."
   ]
  },
  {
   "cell_type": "code",
   "execution_count": 5,
   "id": "bd63bc18-43a8-46ac-97fe-9ec1fcbf0bd7",
   "metadata": {
    "editable": true,
    "slideshow": {
     "slide_type": "fragment"
    },
    "tags": []
   },
   "outputs": [
    {
     "name": "stdout",
     "output_type": "stream",
     "text": [
      "Requirement already satisfied: fsspec_xrootd in /Users/ariostas/miniforge3/envs/codas-hep/lib/python3.10/site-packages (0.5.1)\n",
      "Requirement already satisfied: fsspec in /Users/ariostas/miniforge3/envs/codas-hep/lib/python3.10/site-packages (from fsspec_xrootd) (2025.7.0)\n",
      "Note: you may need to restart the kernel to use updated packages.\n",
      "Channels:\n",
      " - conda-forge\n",
      "Platform: osx-arm64\n",
      "Collecting package metadata (repodata.json): done\n",
      "Solving environment: done\n",
      "\n",
      "\n",
      "==> WARNING: A newer version of conda exists. <==\n",
      "    current version: 24.11.3\n",
      "    latest version: 25.5.1\n",
      "\n",
      "Please update conda by running\n",
      "\n",
      "    $ conda update -n base -c conda-forge conda\n",
      "\n",
      "\n",
      "\n",
      "# All requested packages already installed.\n",
      "\n",
      "\n",
      "Note: you may need to restart the kernel to use updated packages.\n"
     ]
    }
   ],
   "source": [
    "%pip install fsspec_xrootd\n",
    "%conda install xrootd"
   ]
  },
  {
   "cell_type": "code",
   "execution_count": 1,
   "id": "55317633-d5d7-475e-8ce3-0a2190fa5c16",
   "metadata": {
    "editable": true,
    "slideshow": {
     "slide_type": "fragment"
    },
    "tags": []
   },
   "outputs": [
    {
     "data": {
      "text/plain": [
       "{'Events;75': 'TTree', 'Events;74': 'TTree'}"
      ]
     },
     "execution_count": 1,
     "metadata": {},
     "output_type": "execute_result"
    }
   ],
   "source": [
    "import uproot\n",
    "\n",
    "file = uproot.open(\n",
    "    \"root://eospublic.cern.ch//eos/opendata/cms/derived-data/AOD2NanoAODOutreachTool/Run2012BC_DoubleMuParked_Muons.root\"\n",
    ")\n",
    "file.classnames()"
   ]
  },
  {
   "cell_type": "markdown",
   "id": "4ab3de1e-e71f-469a-8053-1156e157ea16",
   "metadata": {
    "editable": true,
    "slideshow": {
     "slide_type": "fragment"
    },
    "tags": []
   },
   "source": [
    "(The `;75` and `;74` are internal indices that ROOT uses to keep track of overwritten objects.) You can ignore them most of the time."
   ]
  },
  {
   "cell_type": "markdown",
   "id": "ca6edfa0-6604-4d81-8bac-b091c2bd3ff6",
   "metadata": {
    "editable": true,
    "slideshow": {
     "slide_type": "fragment"
    },
    "tags": []
   },
   "source": [
    "Just asking for the [uproot.TTree](https://uproot.readthedocs.io/en/latest/uproot.behaviors.TTree.TTree.html) object and printing it out *does not* read the whole dataset."
   ]
  },
  {
   "cell_type": "code",
   "execution_count": 4,
   "id": "92c9d1fc-ba5e-4d43-9bf8-704357d2575b",
   "metadata": {
    "editable": true,
    "slideshow": {
     "slide_type": "fragment"
    },
    "tags": []
   },
   "outputs": [
    {
     "name": "stdout",
     "output_type": "stream",
     "text": [
      "name                 | typename                 | interpretation                \n",
      "---------------------+--------------------------+-------------------------------\n",
      "nMuon                | uint32_t                 | AsDtype('>u4')\n",
      "Muon_pt              | float[]                  | AsJagged(AsDtype('>f4'))\n",
      "Muon_eta             | float[]                  | AsJagged(AsDtype('>f4'))\n",
      "Muon_phi             | float[]                  | AsJagged(AsDtype('>f4'))\n",
      "Muon_mass            | float[]                  | AsJagged(AsDtype('>f4'))\n",
      "Muon_charge          | int32_t[]                | AsJagged(AsDtype('>i4'))\n"
     ]
    }
   ],
   "source": [
    "tree = file[\"Events\"]\n",
    "tree.show()"
   ]
  },
  {
   "cell_type": "markdown",
   "id": "badd95e4-3ecd-475d-a2e4-bacdab846d18",
   "metadata": {
    "editable": true,
    "slideshow": {
     "slide_type": "slide"
    },
    "tags": []
   },
   "source": [
    "## Reading part of a TTree\n",
    "\n",
    "In the last lesson, we learned that the most direct way to read one TBranch is to call [uproot.TBranch.array](https://uproot.readthedocs.io/en/latest/uproot.behaviors.TBranch.TBranch.html#array)."
   ]
  },
  {
   "cell_type": "code",
   "execution_count": 3,
   "id": "fdfcbcbb-e90b-4d85-95fb-fc8d9a092f4d",
   "metadata": {
    "editable": true,
    "slideshow": {
     "slide_type": "fragment"
    },
    "tags": []
   },
   "outputs": [],
   "source": [
    "# You can run this, but it takes a long time\n",
    "# tree[\"nMuon\"].array()"
   ]
  },
  {
   "cell_type": "markdown",
   "id": "ed7e9adc-fa43-43d6-a29d-6ef260cf7437",
   "metadata": {
    "editable": true,
    "slideshow": {
     "slide_type": "fragment"
    },
    "tags": []
   },
   "source": [
    "However, it takes a long time because a lot of data have to be sent over the network.\n",
    "\n",
    "To limit the amount of data read, set `entry_start` and `entry_stop` to the range you want. The `entry_start` is inclusive, `entry_stop` exclusive, and the first entry would be indexed by `0`, just like slices in an array interface (first lesson). Uproot only reads as many TBaskets as are needed to provide these entries."
   ]
  },
  {
   "cell_type": "code",
   "execution_count": 4,
   "id": "4e57ce08-f874-4958-8c21-cf07f5c56d40",
   "metadata": {
    "editable": true,
    "slideshow": {
     "slide_type": "fragment"
    },
    "tags": []
   },
   "outputs": [
    {
     "data": {
      "text/html": [
       "<pre>[2,\n",
       " 2,\n",
       " 2,\n",
       " 2,\n",
       " 2,\n",
       " 2,\n",
       " 2,\n",
       " 2,\n",
       " 1,\n",
       " 2,\n",
       " ...,\n",
       " 2,\n",
       " 2,\n",
       " 2,\n",
       " 4,\n",
       " 4,\n",
       " 1,\n",
       " 3,\n",
       " 4,\n",
       " 3]\n",
       "-----\n",
       "backend: cpu\n",
       "nbytes: 4.0 kB\n",
       "type: 1000 * uint32</pre>"
      ],
      "text/plain": [
       "<Array [2, 2, 2, 2, 2, 2, 2, 2, ..., 2, 4, 4, 1, 3, 4, 3] type='1000 * uint32'>"
      ]
     },
     "execution_count": 4,
     "metadata": {},
     "output_type": "execute_result"
    }
   ],
   "source": [
    "tree[\"nMuon\"].array(entry_start=1_000, entry_stop=2_000)"
   ]
  },
  {
   "cell_type": "markdown",
   "id": "c5d7049f-19e0-44d4-9b61-9be298bc4904",
   "metadata": {
    "editable": true,
    "slideshow": {
     "slide_type": "fragment"
    },
    "tags": []
   },
   "source": [
    "These are the building blocks of a parallel data reader: each is responsible for a different slice. (See also [uproot.TTree.num_entries_for](https://uproot.readthedocs.io/en/latest/uproot.behaviors.TTree.TTree.html#num-entries-for) and [uproot.TTree.common_entry_offsets](https://uproot.readthedocs.io/en/latest/uproot.behaviors.TTree.TTree.html#common-entry-offsets), which can be used to pick `entry_start`/`entry_stop` in optimal ways.)"
   ]
  },
  {
   "cell_type": "markdown",
   "id": "35f74167-3914-4722-8985-bb0c16b22f72",
   "metadata": {
    "editable": true,
    "slideshow": {
     "slide_type": "slide"
    },
    "tags": []
   },
   "source": [
    "## Reading multiple TBranches at once\n",
    "\n",
    "Suppose you know that you will need all of the muon TBranches. Asking for them in one request is more efficient than asking for each TBranch individually because the server can be working on reading the later TBaskets from disk while the earlier TBaskets are being sent over the network to you. Whereas a TBranch has an `array` method, the TTree has an `arrays` (plural) method for getting multiple arrays."
   ]
  },
  {
   "cell_type": "code",
   "execution_count": 5,
   "id": "23efecd9-aa13-49e5-856a-085086c09577",
   "metadata": {
    "editable": true,
    "slideshow": {
     "slide_type": "fragment"
    },
    "tags": []
   },
   "outputs": [
    {
     "data": {
      "text/html": [
       "<pre>[{Muon_pt: [10.8, 15.7], Muon_eta: [1.07, -0.564], Muon_phi: [...], ...},\n",
       " {Muon_pt: [10.5, 16.3], Muon_eta: [-0.428, ...], Muon_phi: [...], ...},\n",
       " {Muon_pt: [3.28], Muon_eta: [2.21], Muon_phi: [-1.22], Muon_mass: ..., ...},\n",
       " {Muon_pt: [11.4, 17.6, 9.62, 3.5], Muon_eta: [-1.59, ...], Muon_phi: ..., ...},\n",
       " {Muon_pt: [3.28, 3.64, 32.9, 23.7], Muon_eta: [-2.17, ...], ...},\n",
       " {Muon_pt: [3.57, 4.57, 4.37], Muon_eta: [-1.37, ...], Muon_phi: [...], ...},\n",
       " {Muon_pt: [57.6, 53], Muon_eta: [-0.532, -1], Muon_phi: [...], ...},\n",
       " {Muon_pt: [11.3, 23.9], Muon_eta: [-0.772, ...], Muon_phi: [...], ...},\n",
       " {Muon_pt: [10.2, 14.2], Muon_eta: [0.442, 0.702], Muon_phi: [...], ...},\n",
       " {Muon_pt: [11.5, 3.47], Muon_eta: [2.34, 2.35], Muon_phi: [...], ...},\n",
       " ...,\n",
       " {Muon_pt: [3.13, 16.9, 11], Muon_eta: [-1.43, ...], Muon_phi: [...], ...},\n",
       " {Muon_pt: [34.2, 14], Muon_eta: [-0.913, ...], Muon_phi: [...], ...},\n",
       " {Muon_pt: [14, 8.19], Muon_eta: [-0.409, ...], Muon_phi: [...], ...},\n",
       " {Muon_pt: [30.6], Muon_eta: [0.696], Muon_phi: [-1.95], Muon_mass: ..., ...},\n",
       " {Muon_pt: [22.1, 12.9, 13.4], Muon_eta: [1.97, ...], Muon_phi: [...], ...},\n",
       " {Muon_pt: [10.1, 4.34], Muon_eta: [0.833, 1.95], Muon_phi: [...], ...},\n",
       " {Muon_pt: [4.36, 15.1, 12.4], Muon_eta: [1.05, ...], Muon_phi: [...], ...},\n",
       " {Muon_pt: [17.7, 4.61, 8.79, 5.14], Muon_eta: [0.587, ...], ...},\n",
       " {Muon_pt: [28.9, 8.62, 4.51], Muon_eta: [0.917, ...], Muon_phi: [...], ...}]\n",
       "--------------------------------------------------------------------------------\n",
       "backend: cpu\n",
       "nbytes: 87.5 kB\n",
       "type: 1000 * {\n",
       "    Muon_pt: var * float32,\n",
       "    Muon_eta: var * float32,\n",
       "    Muon_phi: var * float32,\n",
       "    Muon_mass: var * float32,\n",
       "    Muon_charge: var * int32\n",
       "}</pre>"
      ],
      "text/plain": [
       "<Array [{Muon_pt: [...], ...}, ..., {...}] type='1000 * {Muon_pt: var * flo...'>"
      ]
     },
     "execution_count": 5,
     "metadata": {},
     "output_type": "execute_result"
    }
   ],
   "source": [
    "muons = tree.arrays(\n",
    "    [\"Muon_pt\", \"Muon_eta\", \"Muon_phi\", \"Muon_mass\", \"Muon_charge\"], entry_stop=1_000\n",
    ")\n",
    "muons"
   ]
  },
  {
   "cell_type": "markdown",
   "id": "bf6e91ca-f3d7-4e1b-a6a4-ce02204f0f4f",
   "metadata": {
    "editable": true,
    "slideshow": {
     "slide_type": "fragment"
    },
    "tags": []
   },
   "source": [
    "Now all five of these TBranches are in the output, `muons`, which is an Awkward Array. An Awkward Array of multiple TBranches has a dict-like interface, so we can get each variable from it by"
   ]
  },
  {
   "cell_type": "code",
   "execution_count": 6,
   "id": "cd040f19-e4b8-4b91-8363-9f9363dc6be5",
   "metadata": {
    "editable": true,
    "slideshow": {
     "slide_type": "fragment"
    },
    "tags": []
   },
   "outputs": [
    {
     "data": {
      "text/html": [
       "<pre>[[10.8, 15.7],\n",
       " [10.5, 16.3],\n",
       " [3.28],\n",
       " [11.4, 17.6, 9.62, 3.5],\n",
       " [3.28, 3.64, 32.9, 23.7],\n",
       " [3.57, 4.57, 4.37],\n",
       " [57.6, 53],\n",
       " [11.3, 23.9],\n",
       " [10.2, 14.2],\n",
       " [11.5, 3.47],\n",
       " ...,\n",
       " [3.13, 16.9, 11],\n",
       " [34.2, 14],\n",
       " [14, 8.19],\n",
       " [30.6],\n",
       " [22.1, 12.9, 13.4],\n",
       " [10.1, 4.34],\n",
       " [4.36, 15.1, 12.4],\n",
       " [17.7, 4.61, 8.79, 5.14],\n",
       " [28.9, 8.62, 4.51]]\n",
       "--------------------------\n",
       "backend: cpu\n",
       "nbytes: 17.5 kB\n",
       "type: 1000 * var * float32</pre>"
      ],
      "text/plain": [
       "<Array [[10.8, 15.7], ..., [28.9, 8.62, 4.51]] type='1000 * var * float32'>"
      ]
     },
     "execution_count": 6,
     "metadata": {},
     "output_type": "execute_result"
    }
   ],
   "source": [
    "muons[\"Muon_pt\"]"
   ]
  },
  {
   "cell_type": "markdown",
   "id": "1cdf1ac2-e420-44db-9164-73f3c7471996",
   "metadata": {
    "editable": true,
    "slideshow": {
     "slide_type": "fragment"
    },
    "tags": []
   },
   "source": [
    " "
   ]
  },
  {
   "cell_type": "markdown",
   "id": "f08b442d-f77e-496c-8d67-351477d5ca02",
   "metadata": {
    "editable": true,
    "slideshow": {
     "slide_type": "slide"
    },
    "tags": []
   },
   "source": [
    "## Beware! It's `tree.arrays` that actually reads the data!\n",
    "\n",
    "If you're not careful with the [uproot.TTree.arrays](https://uproot.readthedocs.io/en/latest/uproot.behaviors.TTree.TTree.html#arrays) call, you could end up waiting a long time for data you don't want or you could run out of memory. Reading everything with\n",
    "\n",
    "```python\n",
    "everything = tree.arrays()\n",
    "```\n",
    "and then picking out the arrays you want is usually not a good idea. At the very least, set an `entry_stop`."
   ]
  },
  {
   "cell_type": "markdown",
   "id": "0c2ccb13-0df3-4f0b-b59a-aab815c7b653",
   "metadata": {
    "editable": true,
    "slideshow": {
     "slide_type": "slide"
    },
    "tags": []
   },
   "source": [
    "## Selecting TBranches by name\n",
    "\n",
    "Suppose you have many muon TBranches and you don't want to list them all. The [uproot.TTree.keys](https://uproot.readthedocs.io/en/latest/uproot.behaviors.TTree.TTree.html#keys) and [uproot.TTree.arrays](https://uproot.readthedocs.io/en/latest/uproot.behaviors.TTree.TTree.html#arrays) both take a `filter_name` argument that can select them in various ways (see documentation). In particular, it's good to use the `keys` first, to know which branches match your filter, followed by `arrays`, to actually read them."
   ]
  },
  {
   "cell_type": "code",
   "execution_count": 7,
   "id": "fdd69807-afd4-4194-8391-5285963dcb56",
   "metadata": {
    "editable": true,
    "slideshow": {
     "slide_type": "fragment"
    },
    "tags": []
   },
   "outputs": [
    {
     "data": {
      "text/plain": [
       "['Muon_pt', 'Muon_eta', 'Muon_phi', 'Muon_mass', 'Muon_charge']"
      ]
     },
     "execution_count": 7,
     "metadata": {},
     "output_type": "execute_result"
    }
   ],
   "source": [
    "tree.keys(filter_name=\"Muon_*\")"
   ]
  },
  {
   "cell_type": "code",
   "execution_count": 8,
   "id": "8ed7cf7d-5e8a-4843-bff3-6ded53e6ef99",
   "metadata": {
    "editable": true,
    "slideshow": {
     "slide_type": "fragment"
    },
    "tags": []
   },
   "outputs": [
    {
     "data": {
      "text/html": [
       "<pre>[{Muon_pt: [10.8, 15.7], Muon_eta: [1.07, -0.564], Muon_phi: [...], ...},\n",
       " {Muon_pt: [10.5, 16.3], Muon_eta: [-0.428, ...], Muon_phi: [...], ...},\n",
       " {Muon_pt: [3.28], Muon_eta: [2.21], Muon_phi: [-1.22], Muon_mass: ..., ...},\n",
       " {Muon_pt: [11.4, 17.6, 9.62, 3.5], Muon_eta: [-1.59, ...], Muon_phi: ..., ...},\n",
       " {Muon_pt: [3.28, 3.64, 32.9, 23.7], Muon_eta: [-2.17, ...], ...},\n",
       " {Muon_pt: [3.57, 4.57, 4.37], Muon_eta: [-1.37, ...], Muon_phi: [...], ...},\n",
       " {Muon_pt: [57.6, 53], Muon_eta: [-0.532, -1], Muon_phi: [...], ...},\n",
       " {Muon_pt: [11.3, 23.9], Muon_eta: [-0.772, ...], Muon_phi: [...], ...},\n",
       " {Muon_pt: [10.2, 14.2], Muon_eta: [0.442, 0.702], Muon_phi: [...], ...},\n",
       " {Muon_pt: [11.5, 3.47], Muon_eta: [2.34, 2.35], Muon_phi: [...], ...},\n",
       " ...,\n",
       " {Muon_pt: [3.13, 16.9, 11], Muon_eta: [-1.43, ...], Muon_phi: [...], ...},\n",
       " {Muon_pt: [34.2, 14], Muon_eta: [-0.913, ...], Muon_phi: [...], ...},\n",
       " {Muon_pt: [14, 8.19], Muon_eta: [-0.409, ...], Muon_phi: [...], ...},\n",
       " {Muon_pt: [30.6], Muon_eta: [0.696], Muon_phi: [-1.95], Muon_mass: ..., ...},\n",
       " {Muon_pt: [22.1, 12.9, 13.4], Muon_eta: [1.97, ...], Muon_phi: [...], ...},\n",
       " {Muon_pt: [10.1, 4.34], Muon_eta: [0.833, 1.95], Muon_phi: [...], ...},\n",
       " {Muon_pt: [4.36, 15.1, 12.4], Muon_eta: [1.05, ...], Muon_phi: [...], ...},\n",
       " {Muon_pt: [17.7, 4.61, 8.79, 5.14], Muon_eta: [0.587, ...], ...},\n",
       " {Muon_pt: [28.9, 8.62, 4.51], Muon_eta: [0.917, ...], Muon_phi: [...], ...}]\n",
       "--------------------------------------------------------------------------------\n",
       "backend: cpu\n",
       "nbytes: 87.5 kB\n",
       "type: 1000 * {\n",
       "    Muon_pt: var * float32,\n",
       "    Muon_eta: var * float32,\n",
       "    Muon_phi: var * float32,\n",
       "    Muon_mass: var * float32,\n",
       "    Muon_charge: var * int32\n",
       "}</pre>"
      ],
      "text/plain": [
       "<Array [{Muon_pt: [...], ...}, ..., {...}] type='1000 * {Muon_pt: var * flo...'>"
      ]
     },
     "execution_count": 8,
     "metadata": {},
     "output_type": "execute_result"
    }
   ],
   "source": [
    "tree.arrays(filter_name=\"Muon_*\", entry_stop=1_000)"
   ]
  },
  {
   "cell_type": "markdown",
   "id": "a7e89f94-5ebb-4611-82d5-1c83bd2929ce",
   "metadata": {
    "editable": true,
    "slideshow": {
     "slide_type": "fragment"
    },
    "tags": []
   },
   "source": [
    "(There are also `filter_typename` and `filter_branch` for more options.)"
   ]
  },
  {
   "cell_type": "markdown",
   "id": "d77772c7-59e6-4cac-909f-a6d4288a9a76",
   "metadata": {
    "editable": true,
    "slideshow": {
     "slide_type": "slide"
    },
    "tags": []
   },
   "source": [
    "## Scaling up, making a plot\n",
    "\n",
    "The best way to figure out what you're doing is to tinker with small datasets, and then scale them up. Here, we take 1000 events and compute dimuon masses."
   ]
  },
  {
   "cell_type": "code",
   "execution_count": 5,
   "id": "25a0ab1b-644b-40fc-9f00-0cd1fded4ee9",
   "metadata": {
    "editable": true,
    "slideshow": {
     "slide_type": "fragment"
    },
    "tags": []
   },
   "outputs": [
    {
     "data": {
      "text/plain": [
       "[StairsArtists(stairs=<matplotlib.patches.StepPatch object at 0x10f28c850>, errorbar=<ErrorbarContainer object of 3 artists>, legend_artist=<ErrorbarContainer object of 3 artists>)]"
      ]
     },
     "execution_count": 5,
     "metadata": {},
     "output_type": "execute_result"
    },
    {
     "data": {
      "image/png": "[encoded data removed]",
      "text/plain": [
       "<Figure size 640x480 with 1 Axes>"
      ]
     },
     "metadata": {},
     "output_type": "display_data"
    }
   ],
   "source": [
    "muons = tree.arrays(entry_stop=1_000)\n",
    "cut = muons[\"nMuon\"] == 2\n",
    "\n",
    "pt0 = muons[\"Muon_pt\", cut, 0]\n",
    "pt1 = muons[\"Muon_pt\", cut, 1]\n",
    "eta0 = muons[\"Muon_eta\", cut, 0]\n",
    "eta1 = muons[\"Muon_eta\", cut, 1]\n",
    "phi0 = muons[\"Muon_phi\", cut, 0]\n",
    "phi1 = muons[\"Muon_phi\", cut, 1]\n",
    "\n",
    "import numpy as np\n",
    "\n",
    "mass = np.sqrt(2 * pt0 * pt1 * (np.cosh(eta0 - eta1) - np.cos(phi0 - phi1)))\n",
    "\n",
    "import hist\n",
    "\n",
    "masshist = hist.Hist(hist.axis.Regular(120, 0, 120, label=\"mass [GeV]\"))\n",
    "masshist.fill(mass)\n",
    "masshist.plot()"
   ]
  },
  {
   "cell_type": "markdown",
   "id": "ec07282c-4f40-4e68-ba39-054172e70235",
   "metadata": {
    "editable": true,
    "slideshow": {
     "slide_type": "fragment"
    },
    "tags": []
   },
   "source": [
    "That worked (there's a Z peak). Now to do this over the whole file, we should be more careful about what we're reading,"
   ]
  },
  {
   "cell_type": "code",
   "execution_count": 10,
   "id": "f376720d-3aec-4eb8-a2c4-f094bce44dc5",
   "metadata": {
    "editable": true,
    "slideshow": {
     "slide_type": "fragment"
    },
    "tags": []
   },
   "outputs": [
    {
     "data": {
      "text/plain": [
       "['nMuon', 'Muon_pt', 'Muon_eta', 'Muon_phi']"
      ]
     },
     "execution_count": 10,
     "metadata": {},
     "output_type": "execute_result"
    }
   ],
   "source": [
    "tree.keys(filter_name=[\"nMuon\", \"/Muon_(pt|eta|phi)/\"])"
   ]
  },
  {
   "cell_type": "markdown",
   "id": "0c414a93-5988-4754-a910-c26a080589c8",
   "metadata": {
    "editable": true,
    "slideshow": {
     "slide_type": "fragment"
    },
    "tags": []
   },
   "source": [
    "and accumulate data gradually with [uproot.TTree.iterate](https://uproot.readthedocs.io/en/latest/uproot.behaviors.TTree.TTree.html#iterate). This handles the `entry_start`/`entry_stop` in a loop."
   ]
  },
  {
   "cell_type": "code",
   "execution_count": 8,
   "id": "4c283966-1867-4460-9387-556c8012b467",
   "metadata": {
    "editable": true,
    "slideshow": {
     "slide_type": "fragment"
    },
    "tags": []
   },
   "outputs": [
    {
     "name": "stdout",
     "output_type": "stream",
     "text": [
      "hi\n",
      "8.920967104981892e-06\n",
      "hi\n",
      "1.745194657695911e-05\n",
      "hi\n",
      "2.638916316664953e-05\n",
      "hi\n",
      "3.6041357083515185e-05\n",
      "hi\n",
      "4.548230769916997e-05\n",
      "hi\n",
      "5.5215749039578266e-05\n",
      "hi\n",
      "6.47379470787757e-05\n",
      "hi\n",
      "7.448763790389252e-05\n",
      "hi\n",
      "8.352235140183411e-05\n",
      "hi\n",
      "9.306079892574006e-05\n"
     ]
    },
    {
     "data": {
      "text/plain": [
       "[StairsArtists(stairs=<matplotlib.patches.StepPatch object at 0x11fa81630>, errorbar=<ErrorbarContainer object of 3 artists>, legend_artist=<ErrorbarContainer object of 3 artists>)]"
      ]
     },
     "execution_count": 8,
     "metadata": {},
     "output_type": "execute_result"
    },
    {
     "data": {
      "image/png": "[encoded data removed]",
      "text/plain": [
       "<Figure size 640x480 with 1 Axes>"
      ]
     },
     "metadata": {},
     "output_type": "display_data"
    }
   ],
   "source": [
    "masshist = hist.Hist(hist.axis.Regular(120, 0, 120, label=\"mass [GeV]\"))\n",
    "\n",
    "# Still set entry_stop because it takes a while\n",
    "for muons in tree.iterate(filter_name=[\"nMuon\", \"/Muon_(pt|eta|phi)/\"], step_size=1_000, entry_stop=10_000):\n",
    "    cut = muons[\"nMuon\"] == 2\n",
    "    pt0 = muons[\"Muon_pt\", cut, 0]\n",
    "    pt1 = muons[\"Muon_pt\", cut, 1]\n",
    "    eta0 = muons[\"Muon_eta\", cut, 0]\n",
    "    eta1 = muons[\"Muon_eta\", cut, 1]\n",
    "    phi0 = muons[\"Muon_phi\", cut, 0]\n",
    "    phi1 = muons[\"Muon_phi\", cut, 1]\n",
    "    mass = np.sqrt(2 * pt0 * pt1 * (np.cosh(eta0 - eta1) - np.cos(phi0 - phi1)))\n",
    "    masshist.fill(mass)\n",
    "    print(masshist.sum() / tree.num_entries)\n",
    "\n",
    "masshist.plot()"
   ]
  },
  {
   "cell_type": "markdown",
   "id": "23200a26-63d4-42ab-aeb5-664be39365d8",
   "metadata": {
    "editable": true,
    "slideshow": {
     "slide_type": "slide"
    },
    "tags": []
   },
   "source": [
    "## Getting data into NumPy or Pandas\n",
    "\n",
    "In all of the above examples, the `array`, `arrays`, and `iterate` methods return Awkward Arrays. The Awkward Array library is useful for exactly this kind of data (jagged arrays: more in the next lesson), but you might be working with libraries that only recognize NumPy arrays or Pandas DataFrames.\n",
    "\n",
    "Use `library=\"np\"` or `library=\"pd\"` to get NumPy or Pandas, respectively."
   ]
  },
  {
   "cell_type": "code",
   "execution_count": 9,
   "id": "15ac0275-3c74-4a0c-b706-87e9f58a7b25",
   "metadata": {
    "editable": true,
    "slideshow": {
     "slide_type": "fragment"
    },
    "tags": []
   },
   "outputs": [
    {
     "data": {
      "text/plain": [
       "array([ 2,  2,  1,  4,  4,  3,  2,  2,  2,  2,  2,  2,  6,  3,  2,  1,  2,\n",
       "        2,  2,  2,  2,  5,  3,  3,  4,  2,  2,  2,  3,  2,  0,  2,  3,  2,\n",
       "        3,  3,  2,  2,  2,  2,  2,  2,  3,  2,  3,  1,  3,  2,  5,  3,  1,\n",
       "        5,  2,  2,  3,  2,  1,  2,  3,  2,  3,  2,  1,  1,  5,  2,  0,  2,\n",
       "        1,  2,  1,  4,  2,  2,  2,  2,  4,  2,  1,  1,  2,  1,  2,  1,  1,\n",
       "        2,  1,  5,  2,  1,  3,  3,  2,  2,  3,  4,  1,  2,  0,  2,  2,  2,\n",
       "        2,  2,  1,  2,  2,  2,  4,  3,  2,  3,  2,  7,  2,  2,  2,  3,  4,\n",
       "        2,  1,  0,  2,  3,  2,  2,  3,  2,  2,  1,  2,  2,  1,  4,  2,  2,\n",
       "        5,  2,  3,  2,  2,  3,  5,  2,  1,  7,  3,  2,  2,  2,  2,  2,  2,\n",
       "        2,  2,  2,  2,  2,  4,  2,  3,  2,  0,  2,  1,  3,  2,  4,  5,  2,\n",
       "        2,  2,  5,  2,  3,  2,  2,  3,  2,  4,  2,  1,  3,  0,  2,  2,  3,\n",
       "        4,  2,  3,  3,  6,  2,  2,  2,  2,  2,  6,  2,  2,  1,  2,  2,  3,\n",
       "        3,  2,  2,  2,  2,  2,  4,  2,  4,  2,  2,  2,  2,  4,  2,  2,  2,\n",
       "        2,  2,  3,  2,  2,  2,  3,  4,  2,  3,  0,  2,  1,  3,  4,  0,  1,\n",
       "        2,  2,  1,  4,  3,  2,  1,  2,  2,  2,  2,  2,  4,  2,  4,  4,  3,\n",
       "        2,  2,  2,  2,  3,  2,  5,  2,  2,  4,  3,  3,  2,  3,  1,  2,  2,\n",
       "        0,  2,  2,  2,  2,  5,  3,  2,  3,  2,  0,  2,  2,  2,  5,  2,  4,\n",
       "        0,  5,  2,  2,  3,  3,  2,  2,  2,  2,  2,  2,  3,  2,  2,  2,  2,\n",
       "        4,  2,  2,  2,  1,  2,  2,  9,  5,  2,  3,  1,  4,  2,  2,  2,  2,\n",
       "        2,  3,  3,  3,  2,  2,  2,  1,  2,  2,  2,  1,  7,  2,  2,  3,  0,\n",
       "        2,  2,  1,  2,  3,  3,  1,  2,  2,  3,  3,  6,  2,  0,  2,  2,  2,\n",
       "        3,  2,  1,  3,  2,  2,  2,  2,  2,  1,  3,  2,  2,  2,  3,  2,  2,\n",
       "        2,  3,  3,  5,  2,  2,  3,  1,  2,  2,  3,  3,  2,  2,  3,  2,  2,\n",
       "        2,  2,  2,  4,  2,  1,  3,  2,  2,  1,  2,  4,  2,  1,  2,  2,  0,\n",
       "        3,  2,  2,  2,  2,  1,  3,  2,  2,  1,  2,  2,  2,  4,  2,  2,  2,\n",
       "        2,  4,  3,  2,  3,  2,  2,  2,  2,  2,  3,  2,  2,  2,  2,  1,  2,\n",
       "        3,  2,  3,  4,  1,  1,  2,  2,  2,  2,  2,  2,  2,  4,  2,  2,  2,\n",
       "        4,  3,  2,  4,  2,  2,  5,  2,  2,  4,  2,  2,  3,  3,  2,  3,  2,\n",
       "        2,  3,  3,  1,  2,  2,  4,  2,  3,  3,  2,  2,  2,  2,  2,  2,  3,\n",
       "        6,  3,  2,  2,  2,  3,  3,  2,  2,  3,  5,  2,  2,  1,  3,  1,  2,\n",
       "        3,  2,  1,  2,  2,  3,  4,  2,  3,  3,  2,  5,  3,  1,  1,  2,  0,\n",
       "        2,  2,  3,  4,  3,  1,  4,  2,  2,  3,  3,  1,  3,  3,  3,  2,  1,\n",
       "        4,  4,  2,  2,  4,  2,  2,  4,  2,  2,  3,  2,  2,  2,  1,  2,  1,\n",
       "        2,  1,  3,  2,  1,  2,  1,  2,  2,  2,  0,  2,  3,  3,  2,  1,  2,\n",
       "        3,  2,  1,  3,  2,  3,  2,  2,  2,  2,  2,  2,  2,  2,  2,  2,  3,\n",
       "        2,  2,  3,  2,  2,  2,  5,  2,  2,  1,  2,  2,  2,  1,  1,  3,  2,\n",
       "        2,  2,  2,  2,  3,  5,  2,  2,  1,  4,  2,  2,  2,  3,  2,  2,  4,\n",
       "        3,  2,  3,  3,  1,  4,  2,  2,  2,  0,  2,  1,  1,  4,  3,  2,  3,\n",
       "        2,  1,  2,  2,  1,  2,  8,  2,  2,  4,  2,  3,  1,  2,  2,  2,  2,\n",
       "        2,  2,  2,  2,  2,  2,  2,  1,  2,  5,  2,  3,  0,  1,  4,  0,  2,\n",
       "        2,  2,  4,  1,  5,  2,  2,  2,  2,  2,  2,  2,  3,  3,  2,  2,  2,\n",
       "        2,  2,  4,  2,  2,  2,  2,  5,  2,  2,  4,  2,  3,  5,  3,  2,  3,\n",
       "        3,  2,  2,  3,  2,  1,  5,  2,  2,  4,  2,  3,  2,  2,  2,  2,  2,\n",
       "        2,  2,  2,  2,  2,  4,  2,  2,  3,  1,  2,  2,  4,  1,  2,  1,  4,\n",
       "        2,  1,  2,  3,  2,  1,  3,  2,  3,  4,  2,  2,  2,  3,  3,  3,  4,\n",
       "        4,  2,  2,  1,  2,  5,  2,  5,  2,  4,  3,  3,  3,  2,  2,  2,  2,\n",
       "        5,  1,  2,  2,  3,  4,  3,  2,  2,  4,  1,  2,  2,  2,  3,  3,  2,\n",
       "        3,  2,  2, 10,  3,  2,  3,  1,  1,  2,  2,  2,  4,  2,  2,  4,  2,\n",
       "        1,  2,  3,  2,  2,  1,  2,  2,  2,  2,  3,  4,  2,  2,  3,  2,  3,\n",
       "        2,  2,  2,  2,  2,  2,  2,  2,  2,  3,  1,  3,  5,  3,  4,  2,  3,\n",
       "        2,  1,  2,  5,  2,  2,  4,  3,  2,  1,  4,  2,  2,  2,  1,  2,  3,\n",
       "        1,  2,  3,  5,  2,  3,  3,  2,  3,  1,  5,  4,  3,  2,  5,  4,  2,\n",
       "        3,  2,  3,  2,  3,  2,  3,  3,  2,  2,  2,  3,  3,  2,  1,  2,  2,\n",
       "        5,  3,  1,  2,  3,  2,  2,  2,  2,  2,  3,  2,  4,  2,  1,  5,  2,\n",
       "        3,  2,  3,  2,  2,  2,  0,  2,  2,  2,  2,  2,  2,  1,  1,  2,  3,\n",
       "        0,  3,  2,  5,  2,  3,  2,  4,  3,  2,  2, 13,  4,  2,  2,  2,  2,\n",
       "        2,  2,  3,  2,  1,  2,  4,  1,  4,  2,  2,  2,  3,  2,  0,  3,  2,\n",
       "        3,  2,  2,  1,  2,  3,  2,  3,  2,  2,  2,  2,  3,  2,  3,  2,  2,\n",
       "        4,  4,  0,  3,  1,  3,  2,  2,  1,  3,  2,  3,  4,  3],\n",
       "      dtype=uint32)"
      ]
     },
     "execution_count": 9,
     "metadata": {},
     "output_type": "execute_result"
    }
   ],
   "source": [
    "tree[\"nMuon\"].array(library=\"np\", entry_stop=1_000)"
   ]
  },
  {
   "cell_type": "code",
   "execution_count": 12,
   "id": "aef98b8e-a5c3-48a9-b069-4a711df31f4a",
   "metadata": {
    "editable": true,
    "slideshow": {
     "slide_type": "fragment"
    },
    "tags": []
   },
   "outputs": [
    {
     "name": "stdout",
     "output_type": "stream",
     "text": [
      "Collecting awkward-pandas\n",
      "  Using cached awkward_pandas-2023.8.0-py3-none-any.whl.metadata (2.1 kB)\n",
      "Requirement already satisfied: awkward>=2.0.0 in /Users/ariostas/miniforge3/envs/codas-hep/lib/python3.10/site-packages (from awkward-pandas) (2.8.5)\n",
      "Requirement already satisfied: pandas>=1.2 in /Users/ariostas/miniforge3/envs/codas-hep/lib/python3.10/site-packages (from awkward-pandas) (2.3.1)\n",
      "Requirement already satisfied: awkward-cpp==47 in /Users/ariostas/miniforge3/envs/codas-hep/lib/python3.10/site-packages (from awkward>=2.0.0->awkward-pandas) (47)\n",
      "Requirement already satisfied: fsspec>=2022.11.0 in /Users/ariostas/miniforge3/envs/codas-hep/lib/python3.10/site-packages (from awkward>=2.0.0->awkward-pandas) (2025.7.0)\n",
      "Requirement already satisfied: importlib-metadata>=4.13.0 in /Users/ariostas/miniforge3/envs/codas-hep/lib/python3.10/site-packages (from awkward>=2.0.0->awkward-pandas) (8.7.0)\n",
      "Requirement already satisfied: numpy>=1.18.0 in /Users/ariostas/miniforge3/envs/codas-hep/lib/python3.10/site-packages (from awkward>=2.0.0->awkward-pandas) (2.2.6)\n",
      "Requirement already satisfied: packaging in /Users/ariostas/miniforge3/envs/codas-hep/lib/python3.10/site-packages (from awkward>=2.0.0->awkward-pandas) (25.0)\n",
      "Requirement already satisfied: typing-extensions>=4.1.0 in /Users/ariostas/miniforge3/envs/codas-hep/lib/python3.10/site-packages (from awkward>=2.0.0->awkward-pandas) (4.14.1)\n",
      "Requirement already satisfied: zipp>=3.20 in /Users/ariostas/miniforge3/envs/codas-hep/lib/python3.10/site-packages (from importlib-metadata>=4.13.0->awkward>=2.0.0->awkward-pandas) (3.23.0)\n",
      "Requirement already satisfied: python-dateutil>=2.8.2 in /Users/ariostas/miniforge3/envs/codas-hep/lib/python3.10/site-packages (from pandas>=1.2->awkward-pandas) (2.9.0.post0)\n",
      "Requirement already satisfied: pytz>=2020.1 in /Users/ariostas/miniforge3/envs/codas-hep/lib/python3.10/site-packages (from pandas>=1.2->awkward-pandas) (2025.2)\n",
      "Requirement already satisfied: tzdata>=2022.7 in /Users/ariostas/miniforge3/envs/codas-hep/lib/python3.10/site-packages (from pandas>=1.2->awkward-pandas) (2025.2)\n",
      "Requirement already satisfied: six>=1.5 in /Users/ariostas/miniforge3/envs/codas-hep/lib/python3.10/site-packages (from python-dateutil>=2.8.2->pandas>=1.2->awkward-pandas) (1.17.0)\n",
      "Using cached awkward_pandas-2023.8.0-py3-none-any.whl (11 kB)\n",
      "Installing collected packages: awkward-pandas\n",
      "Successfully installed awkward-pandas-2023.8.0\n",
      "Note: you may need to restart the kernel to use updated packages.\n"
     ]
    }
   ],
   "source": [
    "%pip install awkward-pandas"
   ]
  },
  {
   "cell_type": "code",
   "execution_count": 13,
   "id": "9c2bc9cc-bfe6-4540-ae20-a52b146b2967",
   "metadata": {
    "editable": true,
    "slideshow": {
     "slide_type": "fragment"
    },
    "tags": []
   },
   "outputs": [
    {
     "data": {
      "text/html": [
       "<div>\n",
       "<style scoped>\n",
       "    .dataframe tbody tr th:only-of-type {\n",
       "        vertical-align: middle;\n",
       "    }\n",
       "\n",
       "    .dataframe tbody tr th {\n",
       "        vertical-align: top;\n",
       "    }\n",
       "\n",
       "    .dataframe thead th {\n",
       "        text-align: right;\n",
       "    }\n",
       "</style>\n",
       "<table border=\"1\" class=\"dataframe\">\n",
       "  <thead>\n",
       "    <tr style=\"text-align: right;\">\n",
       "      <th></th>\n",
       "      <th>nMuon</th>\n",
       "      <th>Muon_pt</th>\n",
       "      <th>Muon_eta</th>\n",
       "      <th>Muon_phi</th>\n",
       "      <th>Muon_mass</th>\n",
       "      <th>Muon_charge</th>\n",
       "    </tr>\n",
       "  </thead>\n",
       "  <tbody>\n",
       "    <tr>\n",
       "      <th>0</th>\n",
       "      <td>2</td>\n",
       "      <td>[10.763696670532227, 15.736522674560547]</td>\n",
       "      <td>[1.0668272972106934, -0.563786506652832]</td>\n",
       "      <td>[-0.03427272289991379, 2.5426154136657715]</td>\n",
       "      <td>[0.10565836727619171, 0.10565836727619171]</td>\n",
       "      <td>[-1, -1]</td>\n",
       "    </tr>\n",
       "    <tr>\n",
       "      <th>1</th>\n",
       "      <td>2</td>\n",
       "      <td>[10.538490295410156, 16.327096939086914]</td>\n",
       "      <td>[-0.42778006196022034, 0.34922507405281067]</td>\n",
       "      <td>[-0.2747921049594879, 2.539781332015991]</td>\n",
       "      <td>[0.10565836727619171, 0.10565836727619171]</td>\n",
       "      <td>[1, -1]</td>\n",
       "    </tr>\n",
       "    <tr>\n",
       "      <th>2</th>\n",
       "      <td>1</td>\n",
       "      <td>[3.2753264904022217]</td>\n",
       "      <td>[2.210855484008789]</td>\n",
       "      <td>[-1.2234135866165161]</td>\n",
       "      <td>[0.10565836727619171]</td>\n",
       "      <td>[1]</td>\n",
       "    </tr>\n",
       "    <tr>\n",
       "      <th>3</th>\n",
       "      <td>4</td>\n",
       "      <td>[11.429154396057129, 17.634033203125, 9.624728...</td>\n",
       "      <td>[-1.5882395505905151, -1.7511844635009766, -1....</td>\n",
       "      <td>[-2.0773041248321533, 0.25135836005210876, -2....</td>\n",
       "      <td>[0.10565836727619171, 0.10565836727619171, 0.1...</td>\n",
       "      <td>[1, 1, 1, 1]</td>\n",
       "    </tr>\n",
       "    <tr>\n",
       "      <th>4</th>\n",
       "      <td>4</td>\n",
       "      <td>[3.2834417819976807, 3.64400577545166, 32.9112...</td>\n",
       "      <td>[-2.1724836826324463, -2.18253493309021, -1.12...</td>\n",
       "      <td>[-2.3700082302093506, -2.3051390647888184, -0....</td>\n",
       "      <td>[0.10565836727619171, 0.10565836727619171, 0.1...</td>\n",
       "      <td>[-1, -1, 1, 1]</td>\n",
       "    </tr>\n",
       "    <tr>\n",
       "      <th>...</th>\n",
       "      <td>...</td>\n",
       "      <td>...</td>\n",
       "      <td>...</td>\n",
       "      <td>...</td>\n",
       "      <td>...</td>\n",
       "      <td>...</td>\n",
       "    </tr>\n",
       "    <tr>\n",
       "      <th>995</th>\n",
       "      <td>3</td>\n",
       "      <td>[22.06355094909668, 12.945415496826172, 13.397...</td>\n",
       "      <td>[1.9658242464065552, -0.1912732571363449, -0.1...</td>\n",
       "      <td>[0.3269919753074646, -2.6377272605895996, -2.6...</td>\n",
       "      <td>[0.10565836727619171, 0.10565836727619171, 0.1...</td>\n",
       "      <td>[1, -1, -1]</td>\n",
       "    </tr>\n",
       "    <tr>\n",
       "      <th>996</th>\n",
       "      <td>2</td>\n",
       "      <td>[10.052776336669922, 4.336074352264404]</td>\n",
       "      <td>[0.832908034324646, 1.9521838426589966]</td>\n",
       "      <td>[-1.5373767614364624, -0.07796303927898407]</td>\n",
       "      <td>[0.10565836727619171, 0.10565836727619171]</td>\n",
       "      <td>[-1, 1]</td>\n",
       "    </tr>\n",
       "    <tr>\n",
       "      <th>997</th>\n",
       "      <td>3</td>\n",
       "      <td>[4.36127233505249, 15.089585304260254, 12.3592...</td>\n",
       "      <td>[1.0476676225662231, -0.675965428352356, 0.749...</td>\n",
       "      <td>[2.1066837310791016, -2.155407190322876, 2.129...</td>\n",
       "      <td>[0.10565836727619171, 0.10565836727619171, 0.1...</td>\n",
       "      <td>[1, 1, -1]</td>\n",
       "    </tr>\n",
       "    <tr>\n",
       "      <th>998</th>\n",
       "      <td>4</td>\n",
       "      <td>[17.660253524780273, 4.613911151885986, 8.7928...</td>\n",
       "      <td>[0.5870140194892883, 1.287946343421936, 0.4992...</td>\n",
       "      <td>[-0.13344137370586395, -2.3934242725372314, -0...</td>\n",
       "      <td>[0.10565836727619171, 0.10565836727619171, 0.1...</td>\n",
       "      <td>[-1, -1, -1, -1]</td>\n",
       "    </tr>\n",
       "    <tr>\n",
       "      <th>999</th>\n",
       "      <td>3</td>\n",
       "      <td>[28.948583602905273, 8.6165132522583, 4.507049...</td>\n",
       "      <td>[0.9168391227722168, -1.6703921556472778, -1.7...</td>\n",
       "      <td>[2.0842349529266357, -1.6277621984481812, -1.4...</td>\n",
       "      <td>[0.10565836727619171, 0.10565836727619171, 0.1...</td>\n",
       "      <td>[-1, 1, 1]</td>\n",
       "    </tr>\n",
       "  </tbody>\n",
       "</table>\n",
       "<p>1000 rows × 6 columns</p>\n",
       "</div>"
      ],
      "text/plain": [
       "     nMuon                                            Muon_pt  \\\n",
       "0        2           [10.763696670532227, 15.736522674560547]   \n",
       "1        2           [10.538490295410156, 16.327096939086914]   \n",
       "2        1                               [3.2753264904022217]   \n",
       "3        4  [11.429154396057129, 17.634033203125, 9.624728...   \n",
       "4        4  [3.2834417819976807, 3.64400577545166, 32.9112...   \n",
       "..     ...                                                ...   \n",
       "995      3  [22.06355094909668, 12.945415496826172, 13.397...   \n",
       "996      2            [10.052776336669922, 4.336074352264404]   \n",
       "997      3  [4.36127233505249, 15.089585304260254, 12.3592...   \n",
       "998      4  [17.660253524780273, 4.613911151885986, 8.7928...   \n",
       "999      3  [28.948583602905273, 8.6165132522583, 4.507049...   \n",
       "\n",
       "                                              Muon_eta  \\\n",
       "0             [1.0668272972106934, -0.563786506652832]   \n",
       "1          [-0.42778006196022034, 0.34922507405281067]   \n",
       "2                                  [2.210855484008789]   \n",
       "3    [-1.5882395505905151, -1.7511844635009766, -1....   \n",
       "4    [-2.1724836826324463, -2.18253493309021, -1.12...   \n",
       "..                                                 ...   \n",
       "995  [1.9658242464065552, -0.1912732571363449, -0.1...   \n",
       "996            [0.832908034324646, 1.9521838426589966]   \n",
       "997  [1.0476676225662231, -0.675965428352356, 0.749...   \n",
       "998  [0.5870140194892883, 1.287946343421936, 0.4992...   \n",
       "999  [0.9168391227722168, -1.6703921556472778, -1.7...   \n",
       "\n",
       "                                              Muon_phi  \\\n",
       "0           [-0.03427272289991379, 2.5426154136657715]   \n",
       "1             [-0.2747921049594879, 2.539781332015991]   \n",
       "2                                [-1.2234135866165161]   \n",
       "3    [-2.0773041248321533, 0.25135836005210876, -2....   \n",
       "4    [-2.3700082302093506, -2.3051390647888184, -0....   \n",
       "..                                                 ...   \n",
       "995  [0.3269919753074646, -2.6377272605895996, -2.6...   \n",
       "996        [-1.5373767614364624, -0.07796303927898407]   \n",
       "997  [2.1066837310791016, -2.155407190322876, 2.129...   \n",
       "998  [-0.13344137370586395, -2.3934242725372314, -0...   \n",
       "999  [2.0842349529266357, -1.6277621984481812, -1.4...   \n",
       "\n",
       "                                             Muon_mass       Muon_charge  \n",
       "0           [0.10565836727619171, 0.10565836727619171]          [-1, -1]  \n",
       "1           [0.10565836727619171, 0.10565836727619171]           [1, -1]  \n",
       "2                                [0.10565836727619171]               [1]  \n",
       "3    [0.10565836727619171, 0.10565836727619171, 0.1...      [1, 1, 1, 1]  \n",
       "4    [0.10565836727619171, 0.10565836727619171, 0.1...    [-1, -1, 1, 1]  \n",
       "..                                                 ...               ...  \n",
       "995  [0.10565836727619171, 0.10565836727619171, 0.1...       [1, -1, -1]  \n",
       "996         [0.10565836727619171, 0.10565836727619171]           [-1, 1]  \n",
       "997  [0.10565836727619171, 0.10565836727619171, 0.1...        [1, 1, -1]  \n",
       "998  [0.10565836727619171, 0.10565836727619171, 0.1...  [-1, -1, -1, -1]  \n",
       "999  [0.10565836727619171, 0.10565836727619171, 0.1...        [-1, 1, 1]  \n",
       "\n",
       "[1000 rows x 6 columns]"
      ]
     },
     "execution_count": 13,
     "metadata": {},
     "output_type": "execute_result"
    }
   ],
   "source": [
    "tree.arrays(library=\"pd\", entry_stop=1_000)"
   ]
  },
  {
   "cell_type": "markdown",
   "id": "bdc895c7-0938-4a5e-bef0-198e6e29f6e7",
   "metadata": {
    "editable": true,
    "slideshow": {
     "slide_type": "fragment"
    },
    "tags": []
   },
   "source": [
    "NumPy is great for non-jagged data like the `\"nMuon\"` branch, but it has to represent an unknown number of muons per event as an array of NumPy arrays (i.e. Python objects).\n",
    "\n",
    "Pandas can be made to represent multiple particles per event by putting this structure in a [pd.MultiIndex](https://pandas.pydata.org/pandas-docs/stable/user_guide/advanced.html), but not when the DataFrame contains more than one particle type (e.g. muons *and* electrons). Use separate DataFrames for these cases. If it helps, note that there's another route to DataFrames: by reading the data as an Awkward Array and calling [ak.to_pandas](https://awkward-array.readthedocs.io/en/latest/_auto/ak.to_pandas.html) on it. (Some methods use more memory than others, and I've found Pandas to be unusually memory-intensive.)\n",
    "\n",
    "Or use Awkward Arrays!"
   ]
  },
  {
   "cell_type": "markdown",
   "id": "8790660d-3a1d-4e18-a7a6-25359dee7615",
   "metadata": {
    "editable": true,
    "slideshow": {
     "slide_type": "slide"
    },
    "tags": []
   },
   "source": [
    "## Awkward Array\n",
    "\n",
    "<center>\n",
    "<img src=\"images/awkward-logo.png\" style=\"height:300px;\"/>\n",
    "</center>"
   ]
  },
  {
   "cell_type": "markdown",
   "id": "33814b5a-d747-463e-b41b-8944382242d5",
   "metadata": {
    "editable": true,
    "slideshow": {
     "slide_type": "fragment"
    },
    "tags": []
   },
   "source": [
    "Awkward is a crucial package in Scikit-HEP, as it lets us work with jagged arrays with a NumPy-like syntax. It will be covered in detail on Wednesday, so I'll skip it here. \n",
    "\n",
    "<center>\n",
    "<img src=\"images/cda.png\" style=\"height:200px;\"/>\n",
    "</center>"
   ]
  },
  {
   "cell_type": "markdown",
   "id": "6c57725a-b53c-4ed4-8f6f-120faa182e1a",
   "metadata": {
    "editable": true,
    "slideshow": {
     "slide_type": "slide"
    },
    "tags": []
   },
   "source": [
    "# Histogram libraries\n",
    "\n",
    "Mainstream Python has libraries for filling histograms."
   ]
  },
  {
   "cell_type": "markdown",
   "id": "686a9553-32ae-41b8-a8ac-51c0afbfa64f",
   "metadata": {
    "editable": true,
    "slideshow": {
     "slide_type": "slide"
    },
    "tags": []
   },
   "source": [
    "## NumPy\n",
    "\n",
    "NumPy, for instance, has an `np.histogram` function."
   ]
  },
  {
   "cell_type": "code",
   "execution_count": 87,
   "id": "55a37307-d34c-4596-ab42-043699c25ecb",
   "metadata": {
    "editable": true,
    "slideshow": {
     "slide_type": "fragment"
    },
    "tags": []
   },
   "outputs": [
    {
     "data": {
      "text/html": [
       "<pre>[[172, 89, 29, 69, 277, 1.64e+03, 24, 0, 2, 2],\n",
       " [0.389, 17.6, 34.7, 51.9, 69.1, 86.2, 103, 121, 138, 155, 172]]\n",
       "----------------------------------------------------------------\n",
       "backend: cpu\n",
       "nbytes: 192 B\n",
       "type: 2 * var * float64</pre>"
      ],
      "text/plain": [
       "<Array [[172, 89, 29, 69, 277, ..., 24, 0, 2, 2], ...] type='2 * var * float64'>"
      ]
     },
     "execution_count": 87,
     "metadata": {},
     "output_type": "execute_result"
    }
   ],
   "source": [
    "import skhep_testdata, uproot\n",
    "\n",
    "tree = uproot.open(skhep_testdata.data_path(\"uproot-Zmumu.root\"))[\"events\"]\n",
    "\n",
    "import numpy as np\n",
    "\n",
    "np.histogram(tree[\"M\"].array())"
   ]
  },
  {
   "cell_type": "markdown",
   "id": "43282fab-5333-4541-95de-b4577afa65e7",
   "metadata": {
    "editable": true,
    "slideshow": {
     "slide_type": "fragment"
    },
    "tags": []
   },
   "source": [
    "Because of NumPy’s prominence, this 2-tuple of arrays (bin contents and edges) is a widely recognized histogram format, though it lacks many of the features high-energy physicists expect (under/overflow, axis labels, uncertainties, etc.)."
   ]
  },
  {
   "cell_type": "markdown",
   "id": "cb96fc01-7fb4-4a08-9a39-2eb953901249",
   "metadata": {
    "editable": true,
    "slideshow": {
     "slide_type": "slide"
    },
    "tags": []
   },
   "source": [
    "## Matplotlib\n",
    "\n",
    "Matplotlib also has a `plt.hist` function."
   ]
  },
  {
   "cell_type": "code",
   "execution_count": 88,
   "id": "daeaba1f-411e-42fd-be4d-6fb759f0c946",
   "metadata": {
    "editable": true,
    "slideshow": {
     "slide_type": "fragment"
    },
    "tags": []
   },
   "outputs": [
    {
     "data": {
      "text/plain": [
       "(array([ 172.,   89.,   29.,   69.,  277., 1640.,   24.,    0.,    2.,\n",
       "           2.]),\n",
       " array([  0.38905792,  17.56032889,  34.73159987,  51.90287084,\n",
       "         69.07414181,  86.24541279, 103.41668376, 120.58795473,\n",
       "        137.75922571, 154.93049668, 172.10176766]),\n",
       " <BarContainer object of 10 artists>)"
      ]
     },
     "execution_count": 88,
     "metadata": {},
     "output_type": "execute_result"
    },
    {
     "data": {
      "image/png": "[encoded data removed]",
      "text/plain": [
       "<Figure size 640x480 with 1 Axes>"
      ]
     },
     "metadata": {},
     "output_type": "display_data"
    }
   ],
   "source": [
    "import matplotlib.pyplot as plt\n",
    "\n",
    "plt.hist(tree[\"M\"].array())"
   ]
  },
  {
   "cell_type": "markdown",
   "id": "a91adcaf-6aa4-46a8-87f4-c0e7ee09798b",
   "metadata": {
    "editable": true,
    "slideshow": {
     "slide_type": "fragment"
    },
    "tags": []
   },
   "source": [
    "In addition to the same bin contents and edges as NumPy, Matplotlib includes a plottable graphic."
   ]
  },
  {
   "cell_type": "markdown",
   "id": "4fa13577-9118-4338-b993-e2ddb1de871a",
   "metadata": {
    "editable": true,
    "slideshow": {
     "slide_type": "slide"
    },
    "tags": []
   },
   "source": [
    "## Boost-histogram and hist\n",
    "\n",
    "The main feature that these functions lack (without some effort) is refillability. High-energy physicists usually want to fill histograms with more data than can fit in memory, which means setting bin intervals on an empty container and filling it in batches (sequentially or in parallel).\n",
    "\n",
    "Boost-histogram is a library designed for that purpose. It is intended as an infrastructure component. You can explore its “low-level” functionality upon importing it:"
   ]
  },
  {
   "cell_type": "code",
   "execution_count": 89,
   "id": "475cab91-e138-4ac9-a2ca-6fd29a0ab9ee",
   "metadata": {
    "editable": true,
    "slideshow": {
     "slide_type": "fragment"
    },
    "tags": []
   },
   "outputs": [],
   "source": [
    "import boost_histogram as bh"
   ]
  },
  {
   "cell_type": "markdown",
   "id": "0295b874-01c5-4c9d-a720-341eeecf9367",
   "metadata": {
    "editable": true,
    "slideshow": {
     "slide_type": "fragment"
    },
    "tags": []
   },
   "source": [
    "A more user-friendly layer (with plotting, for instance) is provided by a library called `hist`."
   ]
  },
  {
   "cell_type": "code",
   "execution_count": 90,
   "id": "b2aec42f-2bf8-4588-8b01-886cb0ed2ef8",
   "metadata": {
    "editable": true,
    "slideshow": {
     "slide_type": "fragment"
    },
    "tags": []
   },
   "outputs": [
    {
     "data": {
      "text/plain": [
       "[StairsArtists(stairs=<matplotlib.patches.StepPatch object at 0x1491c3c70>, errorbar=<ErrorbarContainer object of 3 artists>, legend_artist=<ErrorbarContainer object of 3 artists>)]"
      ]
     },
     "execution_count": 90,
     "metadata": {},
     "output_type": "execute_result"
    },
    {
     "data": {
      "image/png": "[encoded data removed]",
      "text/plain": [
       "<Figure size 640x480 with 1 Axes>"
      ]
     },
     "metadata": {},
     "output_type": "display_data"
    }
   ],
   "source": [
    "import hist\n",
    "\n",
    "h = hist.Hist(hist.axis.Regular(120, 60, 120, name=\"mass\"))\n",
    "\n",
    "h.fill(tree[\"M\"].array())\n",
    "\n",
    "h.plot()"
   ]
  },
  {
   "cell_type": "markdown",
   "id": "0e4ca933-dfe0-4b55-b808-1d7301793575",
   "metadata": {
    "editable": true,
    "slideshow": {
     "slide_type": "fragment"
    },
    "tags": []
   },
   "source": [
    " "
   ]
  },
  {
   "cell_type": "markdown",
   "id": "58c15070-832e-4fa3-833d-edeaef2579dc",
   "metadata": {
    "editable": true,
    "slideshow": {
     "slide_type": "slide"
    },
    "tags": []
   },
   "source": [
    "## Universal Histogram Indexing (UHI)\n",
    "\n",
    "There is an attempt within Scikit-HEP to standardize what array-like slices mean for a histogram. ([See documentation](https://uhi.readthedocs.io/en/latest/indexing.html))"
   ]
  },
  {
   "cell_type": "markdown",
   "id": "3e2709d8-c286-4f93-8e0b-cd746ebbefc0",
   "metadata": {
    "editable": true,
    "slideshow": {
     "slide_type": "fragment"
    },
    "tags": []
   },
   "source": [
    "Naturally, integer slices should select a range of bins,"
   ]
  },
  {
   "cell_type": "code",
   "execution_count": 91,
   "id": "a104bc37-b650-49e9-bf99-d6fd5ef5a20f",
   "metadata": {
    "editable": true,
    "slideshow": {
     "slide_type": "fragment"
    },
    "tags": []
   },
   "outputs": [
    {
     "data": {
      "text/plain": [
       "[StairsArtists(stairs=<matplotlib.patches.StepPatch object at 0x148e9a0e0>, errorbar=<ErrorbarContainer object of 3 artists>, legend_artist=<ErrorbarContainer object of 3 artists>)]"
      ]
     },
     "execution_count": 91,
     "metadata": {},
     "output_type": "execute_result"
    },
    {
     "data": {
      "image/png": "[encoded data removed]",
      "text/plain": [
       "<Figure size 640x480 with 1 Axes>"
      ]
     },
     "metadata": {},
     "output_type": "display_data"
    }
   ],
   "source": [
    "h[10:110].plot()"
   ]
  },
  {
   "cell_type": "markdown",
   "id": "d49d793a-3ecb-4d96-b777-0fd18f50b9bd",
   "metadata": {
    "editable": true,
    "slideshow": {
     "slide_type": "fragment"
    },
    "tags": []
   },
   "source": [
    "but often you want to select bins by coordinate value"
   ]
  },
  {
   "cell_type": "code",
   "execution_count": 92,
   "id": "c419d178-f409-4716-9de5-158e22f1ca3b",
   "metadata": {
    "editable": true,
    "slideshow": {
     "slide_type": "fragment"
    },
    "tags": []
   },
   "outputs": [
    {
     "data": {
      "text/plain": [
       "[StairsArtists(stairs=<matplotlib.patches.StepPatch object at 0x11fca8d30>, errorbar=<ErrorbarContainer object of 3 artists>, legend_artist=<ErrorbarContainer object of 3 artists>)]"
      ]
     },
     "execution_count": 92,
     "metadata": {},
     "output_type": "execute_result"
    },
    {
     "data": {
      "image/png": "[encoded data removed]",
      "text/plain": [
       "<Figure size 640x480 with 1 Axes>"
      ]
     },
     "metadata": {},
     "output_type": "display_data"
    }
   ],
   "source": [
    "# Explicit version\n",
    "# h[hist.loc(90) :].plot()\n",
    "\n",
    "# Short version\n",
    "h[90j:].plot()"
   ]
  },
  {
   "cell_type": "markdown",
   "id": "82b1f220-d70a-47be-8588-718c84ae0329",
   "metadata": {
    "editable": true,
    "slideshow": {
     "slide_type": "fragment"
    },
    "tags": []
   },
   "source": [
    "or rebin by a factor,"
   ]
  },
  {
   "cell_type": "code",
   "execution_count": 93,
   "id": "da98d2b8-57e6-4cf7-9218-1c7155d49691",
   "metadata": {
    "editable": true,
    "slideshow": {
     "slide_type": "fragment"
    },
    "tags": []
   },
   "outputs": [
    {
     "data": {
      "text/plain": [
       "[StairsArtists(stairs=<matplotlib.patches.StepPatch object at 0x13eb20250>, errorbar=<ErrorbarContainer object of 3 artists>, legend_artist=<ErrorbarContainer object of 3 artists>)]"
      ]
     },
     "execution_count": 93,
     "metadata": {},
     "output_type": "execute_result"
    },
    {
     "data": {
      "image/png": "[encoded data removed]",
      "text/plain": [
       "<Figure size 640x480 with 1 Axes>"
      ]
     },
     "metadata": {},
     "output_type": "display_data"
    }
   ],
   "source": [
    "# Explicit version\n",
    "# h[:: hist.rebin(2)].plot()\n",
    "\n",
    "# Short version\n",
    "h[::2j].plot()"
   ]
  },
  {
   "cell_type": "markdown",
   "id": "0eded8d0-b259-4b08-9d28-d761a30584f9",
   "metadata": {
    "editable": true,
    "slideshow": {
     "slide_type": "fragment"
    },
    "tags": []
   },
   "source": [
    "or sum over a range."
   ]
  },
  {
   "cell_type": "code",
   "execution_count": 94,
   "id": "d8a5e974-9c35-4a74-8f70-57a977dcb5a1",
   "metadata": {
    "editable": true,
    "slideshow": {
     "slide_type": "fragment"
    },
    "tags": []
   },
   "outputs": [
    {
     "data": {
      "text/plain": [
       "1102.0"
      ]
     },
     "execution_count": 94,
     "metadata": {},
     "output_type": "execute_result"
    }
   ],
   "source": [
    "# Explicit version\n",
    "# h[hist.loc(80) : hist.loc(100) : sum]\n",
    "\n",
    "# Short version\n",
    "h[90j:100j:sum]"
   ]
  },
  {
   "cell_type": "markdown",
   "id": "467fe8f9-fd2b-4791-a011-ad5177f27636",
   "metadata": {
    "editable": true,
    "slideshow": {
     "slide_type": "fragment"
    },
    "tags": []
   },
   "source": [
    "Things get more interesting when a histogram has multiple dimensions."
   ]
  },
  {
   "cell_type": "code",
   "execution_count": 95,
   "id": "ca5e4d2a-4e40-4937-8453-974e6ed650bb",
   "metadata": {
    "editable": true,
    "slideshow": {
     "slide_type": "fragment"
    },
    "tags": []
   },
   "outputs": [
    {
     "data": {
      "text/plain": [
       "[StairsArtists(stairs=<matplotlib.patches.StepPatch object at 0x1497f3940>, errorbar=<ErrorbarContainer object of 3 artists>, legend_artist=<ErrorbarContainer object of 3 artists>)]"
      ]
     },
     "execution_count": 95,
     "metadata": {},
     "output_type": "execute_result"
    },
    {
     "data": {
      "image/png": "[encoded data removed]",
      "text/plain": [
       "<Figure size 640x480 with 6 Axes>"
      ]
     },
     "metadata": {},
     "output_type": "display_data"
    }
   ],
   "source": [
    "import uproot\n",
    "import hist\n",
    "import awkward as ak\n",
    "\n",
    "picodst = uproot.open(\n",
    "    \"https://pivarski-princeton.s3.amazonaws.com/pythia_ppZee_run17emb.picoDst.root:PicoDst\"\n",
    ")\n",
    "\n",
    "vertexhist = hist.Hist(\n",
    "    hist.axis.Regular(600, -1, 1, label=\"x\"),\n",
    "    hist.axis.Regular(600, -1, 1, label=\"y\"),\n",
    "    hist.axis.Regular(40, -200, 200, label=\"z\"),\n",
    ")\n",
    "\n",
    "vertex_data = picodst.arrays(filter_name=\"*mPrimaryVertex[XYZ]\")\n",
    "\n",
    "vertexhist.fill(\n",
    "    ak.flatten(vertex_data[\"Event.mPrimaryVertexX\"]),\n",
    "    ak.flatten(vertex_data[\"Event.mPrimaryVertexY\"]),\n",
    "    ak.flatten(vertex_data[\"Event.mPrimaryVertexZ\"]),\n",
    ")\n",
    "\n",
    "vertexhist[:, :, sum].plot2d_full()\n",
    "vertexhist[-0.25j:0.25j, -0.25j:0.25j, sum].plot2d_full()\n",
    "vertexhist[sum, sum, :].plot()\n",
    "vertexhist[-0.25j:0.25j:sum, -0.25j:0.25j:sum, :].plot()"
   ]
  },
  {
   "cell_type": "markdown",
   "id": "e22686fa-fc79-4fa2-8243-24d064ad3863",
   "metadata": {
    "editable": true,
    "slideshow": {
     "slide_type": "fragment"
    },
    "tags": []
   },
   "source": [
    "A histogram object can have more dimensions than you can reasonably visualize—you can slice, rebin, and project it into something visual later."
   ]
  },
  {
   "cell_type": "markdown",
   "id": "d8cd7be7-910a-41a7-81eb-a5f476ff5b73",
   "metadata": {
    "editable": true,
    "slideshow": {
     "slide_type": "slide"
    },
    "tags": []
   },
   "source": [
    "# Exercise 2 (10 minutes)\n",
    "\n",
    "Let's go back to the big file we were using above. We restricted to events with exactly two muons and computed the dimuon masses. Now, we will use Awkward array to consider all possible combinations of two muons in each event. We will compute the masses and plot them. We have some code that does this below.\n",
    "\n",
    "Make the following modifications to the code below.\n",
    "1. Restrict to only muons of opposite charge.\n",
    "2. Zoom in on the Z-peak and do some rebinning until you like how it looks.\n",
    "3. If you have time, try to pick only the pair of muons with opposite charge with a mass closest to the Z boson (91 GeV). Hint: You'll need `ak.argmin` with `keepdims=True`.\n",
    "\n",
    "<details>\n",
    "<summary>\n",
    "Solution\n",
    "</summary>\n",
    "For 1, you can use <code>cut = (mu1.charge != mu2.charge)</code>. For 2, it's up to you, but it would be something like <code>h[80j:100j:2j].plot()</code>. For 3, you can use <code>which = ak.argmin(abs(mass - zmass), axis=1, keepdims=True)</code>.\n",
    "</details>"
   ]
  },
  {
   "cell_type": "code",
   "execution_count": 18,
   "id": "542d9308-ad52-441f-a2a8-1965100da208",
   "metadata": {
    "editable": true,
    "slideshow": {
     "slide_type": "fragment"
    },
    "tags": []
   },
   "outputs": [
    {
     "data": {
      "text/plain": [
       "[StairsArtists(stairs=<matplotlib.patches.StepPatch object at 0x1383c5db0>, errorbar=<ErrorbarContainer object of 3 artists>, legend_artist=<ErrorbarContainer object of 3 artists>)]"
      ]
     },
     "execution_count": 18,
     "metadata": {},
     "output_type": "execute_result"
    },
    {
     "data": {
      "image/png": "[encoded data removed]",
      "text/plain": [
       "<Figure size 640x480 with 1 Axes>"
      ]
     },
     "metadata": {},
     "output_type": "display_data"
    }
   ],
   "source": [
    "# Modify this code\n",
    "\n",
    "import uproot\n",
    "import awkward as ak\n",
    "import numpy as np\n",
    "\n",
    "file = uproot.open(\n",
    "    \"root://eospublic.cern.ch//eos/opendata/cms/derived-data/AOD2NanoAODOutreachTool/Run2012BC_DoubleMuParked_Muons.root\"\n",
    ")\n",
    "tree = file[\"Events\"]\n",
    "\n",
    "arrays = tree.arrays(filter_name=\"/Muon_(pt|eta|phi|charge)/\", entry_stop=1_000)\n",
    "\n",
    "muons = ak.zip(\n",
    "    {\n",
    "        \"pt\": arrays[\"Muon_pt\"],\n",
    "        \"eta\": arrays[\"Muon_eta\"],\n",
    "        \"phi\": arrays[\"Muon_phi\"],\n",
    "        \"charge\": arrays[\"Muon_charge\"],\n",
    "    }\n",
    ")\n",
    "\n",
    "# Construct all possible pairs\n",
    "pairs = ak.combinations(muons, 2)\n",
    "\n",
    "# Separate them into first and second muon\n",
    "mu1, mu2 = ak.unzip(pairs)\n",
    "\n",
    "mass = np.sqrt(\n",
    "    2 * mu1.pt * mu2.pt * (np.cosh(mu1.eta - mu2.eta) - np.cos(mu1.phi - mu2.phi))\n",
    ")\n",
    "\n",
    "# mass is a jagged array, so we need to flatten/ravel it in order to construct the histogram\n",
    "h = hist.Hist(hist.axis.Regular(120, 0, 120, label=\"mass [GeV]\"))\n",
    "h.fill(ak.ravel(mass))\n",
    "h.plot()"
   ]
  },
  {
   "cell_type": "markdown",
   "id": "5daf1f55-1d18-4a5d-b1f7-cd1648433b3a",
   "metadata": {
    "editable": true,
    "slideshow": {
     "slide_type": "fragment"
    },
    "tags": []
   },
   "source": [
    " "
   ]
  },
  {
   "cell_type": "markdown",
   "id": "cb470d3a-2629-465f-a3d5-011a8cc192b0",
   "metadata": {
    "editable": true,
    "slideshow": {
     "slide_type": "slide"
    },
    "tags": []
   },
   "source": [
    "# Now let's take a quick look at a few other packages in Scikit-HEP"
   ]
  },
  {
   "cell_type": "markdown",
   "id": "29dc72d8-e584-4a3f-9e6e-66875593f1ca",
   "metadata": {
    "editable": true,
    "slideshow": {
     "slide_type": "fragment"
    },
    "tags": []
   },
   "source": [
    "## Lorentz vectors\n",
    "\n",
    "In keeping with the “many small packages” philosophy, 2D/3D/Lorentz vectors are handled by a package named Vector. This is where you can find calculations like `deltaR` and coordinate transformations."
   ]
  },
  {
   "cell_type": "code",
   "execution_count": 96,
   "id": "9dac102a-7f79-40cd-bb93-c666cac7994f",
   "metadata": {
    "editable": true,
    "slideshow": {
     "slide_type": "fragment"
    },
    "tags": []
   },
   "outputs": [],
   "source": [
    "import vector\n",
    "\n",
    "one = vector.obj(px=1, py=0, pz=0)\n",
    "two = vector.obj(px=0, py=1, pz=1)"
   ]
  },
  {
   "cell_type": "code",
   "execution_count": 97,
   "id": "94dc905e-45c2-4c9a-92d9-13c52d59d3a4",
   "metadata": {
    "editable": true,
    "slideshow": {
     "slide_type": "fragment"
    },
    "tags": []
   },
   "outputs": [
    {
     "data": {
      "text/plain": [
       "MomentumObject3D(px=1, py=1, pz=1)"
      ]
     },
     "execution_count": 97,
     "metadata": {},
     "output_type": "execute_result"
    }
   ],
   "source": [
    "one + two"
   ]
  },
  {
   "cell_type": "code",
   "execution_count": 98,
   "id": "baa315af-1c4e-4e88-9aa0-30cae5e61871",
   "metadata": {
    "editable": true,
    "slideshow": {
     "slide_type": "fragment"
    },
    "tags": []
   },
   "outputs": [
    {
     "data": {
      "text/plain": [
       "np.float64(1.8011719796199461)"
      ]
     },
     "execution_count": 98,
     "metadata": {},
     "output_type": "execute_result"
    }
   ],
   "source": [
    "one.deltaR(two)"
   ]
  },
  {
   "cell_type": "code",
   "execution_count": 99,
   "id": "46df9127-1aa6-4324-8bb1-dbc48b4e6f42",
   "metadata": {
    "editable": true,
    "slideshow": {
     "slide_type": "fragment"
    },
    "tags": []
   },
   "outputs": [
    {
     "data": {
      "text/plain": [
       "MomentumObject3D(pt=1.0, phi=0.0, eta=0.0)"
      ]
     },
     "execution_count": 99,
     "metadata": {},
     "output_type": "execute_result"
    }
   ],
   "source": [
    "one.to_rhophieta()"
   ]
  },
  {
   "cell_type": "code",
   "execution_count": 100,
   "id": "a635ac1a-5352-42cb-b891-f012bf5cb882",
   "metadata": {
    "editable": true,
    "slideshow": {
     "slide_type": "fragment"
    },
    "tags": []
   },
   "outputs": [
    {
     "data": {
      "text/plain": [
       "MomentumObject3D(pt=1.0, phi=1.5707963267948966, eta=0.881373587019543)"
      ]
     },
     "execution_count": 100,
     "metadata": {},
     "output_type": "execute_result"
    }
   ],
   "source": [
    "two.to_rhophieta()"
   ]
  },
  {
   "cell_type": "markdown",
   "id": "b564a1e6-a37c-446b-bbd4-196af3337cd3",
   "metadata": {
    "editable": true,
    "slideshow": {
     "slide_type": "fragment"
    },
    "tags": []
   },
   "source": [
    "To fit in with the rest of the ecosystem, Vector must be an array-oriented library. Arrays of 2D/3D/Lorentz vectors are processed in bulk.\n",
    "\n",
    "MomentumNumpy2D, MomentumNumpy3D, MomentumNumpy4D are NumPy array subtypes: NumPy arrays can be cast to these types and get all the vector functions."
   ]
  },
  {
   "cell_type": "code",
   "execution_count": 101,
   "id": "d7730199-188e-489e-9849-6c216db61641",
   "metadata": {
    "editable": true,
    "slideshow": {
     "slide_type": "fragment"
    },
    "tags": []
   },
   "outputs": [],
   "source": [
    "import skhep_testdata, uproot\n",
    "import awkward as ak\n",
    "import vector\n",
    "\n",
    "tree = uproot.open(skhep_testdata.data_path(\"uproot-Zmumu.root\"))[\"events\"]\n",
    "\n",
    "one = ak.to_numpy(tree.arrays(filter_name=[\"E1\", \"p[xyz]1\"]))\n",
    "two = ak.to_numpy(tree.arrays(filter_name=[\"E2\", \"p[xyz]2\"]))"
   ]
  },
  {
   "cell_type": "code",
   "execution_count": 102,
   "id": "99f5b146-966e-424b-a2a8-1bf65c763142",
   "metadata": {
    "editable": true,
    "slideshow": {
     "slide_type": "fragment"
    },
    "tags": []
   },
   "outputs": [],
   "source": [
    "one.dtype.names = (\"E\", \"px\", \"py\", \"pz\")\n",
    "two.dtype.names = (\"E\", \"px\", \"py\", \"pz\")"
   ]
  },
  {
   "cell_type": "code",
   "execution_count": 103,
   "id": "75d2240e-ad22-4c07-bc38-2eeb3cb489bc",
   "metadata": {
    "editable": true,
    "slideshow": {
     "slide_type": "fragment"
    },
    "tags": []
   },
   "outputs": [],
   "source": [
    "one = one.view(vector.MomentumNumpy4D)\n",
    "two = two.view(vector.MomentumNumpy4D)"
   ]
  },
  {
   "cell_type": "code",
   "execution_count": 104,
   "id": "fe9428d7-d169-48b9-ba16-dee90757ac68",
   "metadata": {
    "editable": true,
    "slideshow": {
     "slide_type": "fragment"
    },
    "tags": []
   },
   "outputs": [
    {
     "data": {
      "text/plain": [
       "MomentumNumpy4D([( -7.0508504 ,   1.31371932, -116.3919462 , 142.82374098),\n",
       "                 ( -6.07723788,   0.86288157, -117.74020834, 144.54679534),\n",
       "                 ( -5.76527367,   0.72893471, -117.22250173, 143.92770728), ...,\n",
       "                 (-35.664423  , -24.9064416 , -226.76744871, 250.05025691),\n",
       "                 (-36.41664408, -25.19899466, -228.38003444, 251.853268  ),\n",
       "                 (-36.30874217, -25.19705013, -228.65597631, 252.14934978)],\n",
       "                shape=(2304,), dtype=[('x', '<f8'), ('y', '<f8'), ('z', '<f8'), ('t', '<f8')])"
      ]
     },
     "execution_count": 104,
     "metadata": {},
     "output_type": "execute_result"
    }
   ],
   "source": [
    "one + two"
   ]
  },
  {
   "cell_type": "code",
   "execution_count": 105,
   "id": "67bf8ba1-9bff-4f43-93bf-3c55c779f62b",
   "metadata": {
    "editable": true,
    "slideshow": {
     "slide_type": "fragment"
    },
    "tags": []
   },
   "outputs": [
    {
     "data": {
      "text/plain": [
       "array([3.10530402, 3.10550819, 3.10547199, ..., 2.81363587, 2.81359933,\n",
       "       2.81354694], shape=(2304,))"
      ]
     },
     "execution_count": 105,
     "metadata": {},
     "output_type": "execute_result"
    }
   ],
   "source": [
    "one.deltaR(two)"
   ]
  },
  {
   "cell_type": "code",
   "execution_count": 106,
   "id": "dc8f1e4c-9e46-460b-a3f1-05b94d167f62",
   "metadata": {
    "editable": true,
    "slideshow": {
     "slide_type": "fragment"
    },
    "tags": []
   },
   "outputs": [
    {
     "data": {
      "text/plain": [
       "MomentumNumpy3D([(44.7322,  2.74126  , -1.21769), (38.8311, -0.440873 , -1.05139),\n",
       "                 (38.8311, -0.440873 , -1.05139), ...,\n",
       "                 (32.3997,  0.0370275, -1.57044), (32.3997,  0.0370275, -1.57044),\n",
       "                 (32.5076,  0.0369644, -1.57078)],\n",
       "                shape=(2304,), dtype=[('rho', '<f8'), ('phi', '<f8'), ('eta', '<f8')])"
      ]
     },
     "execution_count": 106,
     "metadata": {},
     "output_type": "execute_result"
    }
   ],
   "source": [
    "one.to_rhophieta()"
   ]
  },
  {
   "cell_type": "markdown",
   "id": "0a5bf587-2200-4ff3-8417-c95d2878ac0b",
   "metadata": {
    "editable": true,
    "slideshow": {
     "slide_type": "fragment"
    },
    "tags": []
   },
   "source": [
    "After `vector.register_awkward()` is called, `\"Momentum2D\"`, `\"Momentum3D\"`, `\"Momentum4D\"` are record names that Awkward Array will recognize to get all the vector functions."
   ]
  },
  {
   "cell_type": "code",
   "execution_count": 107,
   "id": "0686b6ab-0b8a-4a4b-97c0-9c6de31c1670",
   "metadata": {
    "editable": true,
    "slideshow": {
     "slide_type": "fragment"
    },
    "tags": []
   },
   "outputs": [],
   "source": [
    "vector.register_awkward()\n",
    "\n",
    "tree = uproot.open(skhep_testdata.data_path(\"uproot-HZZ.root\"))[\"events\"]\n",
    "\n",
    "array = tree.arrays(filter_name=[\"Muon_E\", \"Muon_P[xyz]\"])\n",
    "\n",
    "muons = ak.zip(\n",
    "    {\"px\": array.Muon_Px, \"py\": array.Muon_Py, \"pz\": array.Muon_Pz, \"E\": array.Muon_E},\n",
    "    with_name=\"Momentum4D\",\n",
    ")\n",
    "mu1, mu2 = ak.unzip(ak.combinations(muons, 2))"
   ]
  },
  {
   "cell_type": "code",
   "execution_count": 108,
   "id": "a3ff22fb-cbde-4833-874d-769cc9d60d8a",
   "metadata": {
    "editable": true,
    "slideshow": {
     "slide_type": "fragment"
    },
    "tags": []
   },
   "outputs": [
    {
     "data": {
      "text/html": [
       "<pre>[[{x: -15.2, y: -11, z: -19.5, t: 94.2}],\n",
       " [],\n",
       " [{x: 49.8, y: 8.08, z: 48.1, t: 102}],\n",
       " [{x: 98.8, y: -99.8, z: 739, t: 758}],\n",
       " [{x: 84.9, y: 92.7, z: -69.6, t: 172}],\n",
       " [{x: 3.43, y: 10.3, z: 28.3, t: 97}],\n",
       " [{x: 42.1, y: -47, z: -151, t: 172}],\n",
       " [],\n",
       " [{x: -41.7, y: 87.6, z: 18.2, t: 133}],\n",
       " [{x: -85.1, y: 18.1, z: 112, t: 172}],\n",
       " ...,\n",
       " [],\n",
       " [],\n",
       " [],\n",
       " [{x: 2.94, y: 18.4, z: -262, t: 273}],\n",
       " [],\n",
       " [],\n",
       " [],\n",
       " [],\n",
       " []]\n",
       "-----------------------------------------\n",
       "backend: cpu\n",
       "nbytes: 43.7 kB\n",
       "type: 2421 * var * Momentum4D[\n",
       "    x: float32,\n",
       "    y: float32,\n",
       "    z: float32,\n",
       "    t: float32\n",
       "]</pre>"
      ],
      "text/plain": [
       "<MomentumArray4D [[{x: -15.2, y: -11, z: ..., ...}], ...] type='2421 * var ...'>"
      ]
     },
     "execution_count": 108,
     "metadata": {},
     "output_type": "execute_result"
    }
   ],
   "source": [
    "mu1 + mu2"
   ]
  },
  {
   "cell_type": "code",
   "execution_count": 109,
   "id": "0dec6c89-a551-4ceb-8424-353332f35be5",
   "metadata": {
    "editable": true,
    "slideshow": {
     "slide_type": "fragment"
    },
    "tags": []
   },
   "outputs": [
    {
     "data": {
      "text/html": [
       "<pre>[[2.95],\n",
       " [],\n",
       " [2.13],\n",
       " [1.14],\n",
       " [1.43],\n",
       " [3.44],\n",
       " [1.49],\n",
       " [],\n",
       " [2.87],\n",
       " [1.86],\n",
       " ...,\n",
       " [],\n",
       " [],\n",
       " [],\n",
       " [2.76],\n",
       " [],\n",
       " [],\n",
       " [],\n",
       " [],\n",
       " []]\n",
       "--------\n",
       "backend: cpu\n",
       "nbytes: 25.5 kB\n",
       "type: 2421 * var * float32</pre>"
      ],
      "text/plain": [
       "<Array [[2.95], [], [2.13], ..., [], [], []] type='2421 * var * float32'>"
      ]
     },
     "execution_count": 109,
     "metadata": {},
     "output_type": "execute_result"
    }
   ],
   "source": [
    "mu1.deltaR(mu2)"
   ]
  },
  {
   "cell_type": "markdown",
   "id": "44171489-7179-447a-ac77-44002c050937",
   "metadata": {
    "editable": true,
    "slideshow": {
     "slide_type": "fragment"
    },
    "tags": []
   },
   "source": [
    " "
   ]
  },
  {
   "cell_type": "markdown",
   "id": "3b63d078-2ce1-4a3b-990e-f0bbfbc5879e",
   "metadata": {
    "editable": true,
    "slideshow": {
     "slide_type": "slide"
    },
    "tags": []
   },
   "source": [
    "## Particle properties and PDG identifiers\n",
    "\n",
    "The Particle library provides all of the particle masses, decay widths and more from the PDG. It further contains a series of tools to programmatically query particle properties and use several identification schemes."
   ]
  },
  {
   "cell_type": "code",
   "execution_count": 110,
   "id": "596fe0e6-8c02-4796-8028-b489bf3d851b",
   "metadata": {
    "editable": true,
    "slideshow": {
     "slide_type": "fragment"
    },
    "tags": []
   },
   "outputs": [],
   "source": [
    "import particle\n",
    "from hepunits import GeV"
   ]
  },
  {
   "cell_type": "code",
   "execution_count": 111,
   "id": "97a1ff35-7c28-4b73-9efa-e17f4d55d794",
   "metadata": {
    "editable": true,
    "slideshow": {
     "slide_type": "fragment"
    },
    "tags": []
   },
   "outputs": [
    {
     "data": {
      "text/plain": [
       "[<Particle: name=\"pi0\", pdgid=111, mass=134.9768 ± 0.0005 MeV>,\n",
       " <Particle: name=\"pi+\", pdgid=211, mass=139.57039 ± 0.00018 MeV>,\n",
       " <Particle: name=\"pi-\", pdgid=-211, mass=139.57039 ± 0.00018 MeV>,\n",
       " <Particle: name=\"pi(2)(1670)0\", pdgid=10115, mass=1670.6 + 2.9 - 1.2 MeV>,\n",
       " <Particle: name=\"pi(2)(1670)+\", pdgid=10215, mass=1670.6 + 2.9 - 1.2 MeV>,\n",
       " <Particle: name=\"pi(2)(1670)-\", pdgid=-10215, mass=1670.6 + 2.9 - 1.2 MeV>,\n",
       " <Particle: name=\"pi(1300)0\", pdgid=100111, mass=1300 ± 100 MeV>,\n",
       " <Particle: name=\"pi(1300)+\", pdgid=100211, mass=1300 ± 100 MeV>,\n",
       " <Particle: name=\"pi(1300)-\", pdgid=-100211, mass=1300 ± 100 MeV>,\n",
       " <Particle: name=\"pi(1)(1400)0\", pdgid=9000113, mass=None>,\n",
       " <Particle: name=\"pi(1)(1400)+\", pdgid=9000213, mass=None>,\n",
       " <Particle: name=\"pi(1)(1400)-\", pdgid=-9000213, mass=None>,\n",
       " <Particle: name=\"pi(1800)0\", pdgid=9010111, mass=1810 + 9 - 11 MeV>,\n",
       " <Particle: name=\"pi(1)(1600)0\", pdgid=9010113, mass=1645 + 40 - 17 MeV>,\n",
       " <Particle: name=\"pi(1800)+\", pdgid=9010211, mass=1810 + 9 - 11 MeV>,\n",
       " <Particle: name=\"pi(1800)-\", pdgid=-9010211, mass=1810 + 9 - 11 MeV>,\n",
       " <Particle: name=\"pi(1)(1600)+\", pdgid=9010213, mass=1645 + 40 - 17 MeV>,\n",
       " <Particle: name=\"pi(1)(1600)-\", pdgid=-9010213, mass=1645 + 40 - 17 MeV>]"
      ]
     },
     "execution_count": 111,
     "metadata": {},
     "output_type": "execute_result"
    }
   ],
   "source": [
    "particle.Particle.findall(\"pi\")"
   ]
  },
  {
   "cell_type": "code",
   "execution_count": 112,
   "id": "9f8ce234-f516-41d9-bf38-2953b8519519",
   "metadata": {
    "editable": true,
    "slideshow": {
     "slide_type": "fragment"
    },
    "tags": []
   },
   "outputs": [
    {
     "data": {
      "text/plain": [
       "(91.188, 2.4955)"
      ]
     },
     "execution_count": 112,
     "metadata": {},
     "output_type": "execute_result"
    }
   ],
   "source": [
    "z_boson = particle.Particle.from_name(\"Z0\")\n",
    "z_boson.mass / GeV, z_boson.width / GeV"
   ]
  },
  {
   "cell_type": "code",
   "execution_count": 113,
   "id": "873d864a-2aa6-4b56-9793-f94a0ade0356",
   "metadata": {
    "editable": true,
    "slideshow": {
     "slide_type": "fragment"
    },
    "tags": []
   },
   "outputs": [
    {
     "name": "stdout",
     "output_type": "stream",
     "text": [
      "Name: Z0             ID: 23           Latex: $Z^{0}$\n",
      "Mass  = 91188.0 ± 2.0 MeV\n",
      "Width = 2495.5 ± 2.3 MeV\n",
      "Q (charge)        = 0       J (total angular) = 1.0      P (space parity) = None\n",
      "C (charge parity) = None    I (isospin)       = None     G (G-parity)     = None\n",
      "    Antiparticle name: Z0 (antiparticle status: Same)\n"
     ]
    }
   ],
   "source": [
    "print(z_boson.describe())"
   ]
  },
  {
   "cell_type": "code",
   "execution_count": 114,
   "id": "16284869-4710-4f93-b81d-f2c4078e697d",
   "metadata": {
    "editable": true,
    "slideshow": {
     "slide_type": "fragment"
    },
    "tags": []
   },
   "outputs": [
    {
     "data": {
      "text/latex": [
       "$\\pi^{0}$"
      ],
      "text/plain": [
       "<Particle: name=\"pi0\", pdgid=111, mass=134.9768 ± 0.0005 MeV>"
      ]
     },
     "execution_count": 114,
     "metadata": {},
     "output_type": "execute_result"
    }
   ],
   "source": [
    "particle.Particle.from_pdgid(111)"
   ]
  },
  {
   "cell_type": "code",
   "execution_count": 115,
   "id": "64528ac8-2c53-463d-ab84-bab3045cb7de",
   "metadata": {
    "editable": true,
    "slideshow": {
     "slide_type": "fragment"
    },
    "tags": []
   },
   "outputs": [
    {
     "data": {
      "text/plain": [
       "[<Particle: name=\"D(s)+\", pdgid=431, mass=1968.35 ± 0.07 MeV>,\n",
       " <Particle: name=\"D(s)-\", pdgid=-431, mass=1968.35 ± 0.07 MeV>,\n",
       " <Particle: name=\"D(s)*+\", pdgid=433, mass=2112.2 ± 0.4 MeV>,\n",
       " <Particle: name=\"D(s)*-\", pdgid=-433, mass=2112.2 ± 0.4 MeV>,\n",
       " <Particle: name=\"D(s2)*(2573)+\", pdgid=435, mass=2569.1 ± 0.8 MeV>,\n",
       " <Particle: name=\"D(s2)*(2573)-\", pdgid=-435, mass=2569.1 ± 0.8 MeV>,\n",
       " <Particle: name=\"D(s0)*(2317)+\", pdgid=10431, mass=2317.8 ± 0.5 MeV>,\n",
       " <Particle: name=\"D(s0)*(2317)-\", pdgid=-10431, mass=2317.8 ± 0.5 MeV>,\n",
       " <Particle: name=\"D(s1)(2536)+\", pdgid=10433, mass=2535.11 ± 0.06 MeV>,\n",
       " <Particle: name=\"D(s1)(2536)-\", pdgid=-10433, mass=2535.11 ± 0.06 MeV>,\n",
       " <Particle: name=\"D(s1)(2460)+\", pdgid=20433, mass=2459.5 ± 0.6 MeV>,\n",
       " <Particle: name=\"D(s1)(2460)-\", pdgid=-20433, mass=2459.5 ± 0.6 MeV>]"
      ]
     },
     "execution_count": 115,
     "metadata": {},
     "output_type": "execute_result"
    }
   ],
   "source": [
    "particle.Particle.findall(\n",
    "    lambda p: p.pdgid.is_meson and p.pdgid.has_strange and p.pdgid.has_charm\n",
    ")"
   ]
  },
  {
   "cell_type": "code",
   "execution_count": 116,
   "id": "7b8ab90f-4de7-4f84-ad96-fe26806b8805",
   "metadata": {
    "editable": true,
    "slideshow": {
     "slide_type": "fragment"
    },
    "tags": []
   },
   "outputs": [
    {
     "name": "stdout",
     "output_type": "stream",
     "text": [
      "A              None\n",
      "J              0.0\n",
      "L              0\n",
      "S              0\n",
      "Z              None\n",
      "abspid         211\n",
      "charge         1.0\n",
      "has_bottom     False\n",
      "has_charm      False\n",
      "has_down       True\n",
      "has_fundamental_anti False\n",
      "has_strange    False\n",
      "has_top        False\n",
      "has_up         True\n",
      "is_Qball       False\n",
      "is_Rhadron     False\n",
      "is_SUSY        False\n",
      "is_baryon      False\n",
      "is_diquark     False\n",
      "is_dyon        False\n",
      "is_excited_quark_or_lepton False\n",
      "is_gauge_boson_or_higgs False\n",
      "is_generator_specific False\n",
      "is_hadron      True\n",
      "is_lepton      False\n",
      "is_meson       True\n",
      "is_nucleus     False\n",
      "is_pentaquark  False\n",
      "is_quark       False\n",
      "is_sm_gauge_boson_or_higgs False\n",
      "is_sm_lepton   False\n",
      "is_sm_quark    False\n",
      "is_special_particle False\n",
      "is_technicolor False\n",
      "is_valid       True\n",
      "j_spin         1\n",
      "l_spin         1\n",
      "s_spin         1\n",
      "three_charge   3\n",
      "\n"
     ]
    }
   ],
   "source": [
    "print(particle.PDGID(211).info())"
   ]
  },
  {
   "cell_type": "markdown",
   "id": "09bfa3e2-9d01-48ce-9a1c-0659dc1142af",
   "metadata": {
    "editable": true,
    "slideshow": {
     "slide_type": "fragment"
    },
    "tags": []
   },
   "source": [
    " "
   ]
  },
  {
   "cell_type": "markdown",
   "id": "a50ae904-f325-43f7-94e7-893b9799ecf9",
   "metadata": {
    "editable": true,
    "slideshow": {
     "slide_type": "slide"
    },
    "tags": []
   },
   "source": [
    "## Jet clustering\n",
    "\n",
    "In a high-energy pp collision, for instance, a spray of hadrons is produced which is clustered into \"jets\" of particles and this method/process is called jet-clustering. The anti-kt jet clustering algorithm is one such algorithm used to combine particles/hadrons that are close to each other into jets.\n",
    "\n",
    "Some people need to do jet-clustering at the analysis level. The fastjet package makes it possible to do that an (Awkward) array at a time."
   ]
  },
  {
   "cell_type": "code",
   "execution_count": 52,
   "id": "6e19aa8c-4007-4e8a-9e93-59f9d23b2318",
   "metadata": {
    "editable": true,
    "slideshow": {
     "slide_type": "fragment"
    },
    "tags": []
   },
   "outputs": [
    {
     "name": "stdout",
     "output_type": "stream",
     "text": [
      "Requirement already satisfied: fastjet in /Users/ariostas/miniforge3/envs/codas-hep/lib/python3.10/site-packages (3.5.1.1)\n",
      "Requirement already satisfied: awkward>=2 in /Users/ariostas/miniforge3/envs/codas-hep/lib/python3.10/site-packages (from fastjet) (2.8.5)\n",
      "Requirement already satisfied: numpy>=1.13.3 in /Users/ariostas/miniforge3/envs/codas-hep/lib/python3.10/site-packages (from fastjet) (2.2.6)\n",
      "Requirement already satisfied: vector in /Users/ariostas/miniforge3/envs/codas-hep/lib/python3.10/site-packages (from fastjet) (1.6.3)\n",
      "Requirement already satisfied: awkward-cpp==47 in /Users/ariostas/miniforge3/envs/codas-hep/lib/python3.10/site-packages (from awkward>=2->fastjet) (47)\n",
      "Requirement already satisfied: fsspec>=2022.11.0 in /Users/ariostas/miniforge3/envs/codas-hep/lib/python3.10/site-packages (from awkward>=2->fastjet) (2025.7.0)\n",
      "Requirement already satisfied: importlib-metadata>=4.13.0 in /Users/ariostas/miniforge3/envs/codas-hep/lib/python3.10/site-packages (from awkward>=2->fastjet) (8.7.0)\n",
      "Requirement already satisfied: packaging in /Users/ariostas/miniforge3/envs/codas-hep/lib/python3.10/site-packages (from awkward>=2->fastjet) (25.0)\n",
      "Requirement already satisfied: typing-extensions>=4.1.0 in /Users/ariostas/miniforge3/envs/codas-hep/lib/python3.10/site-packages (from awkward>=2->fastjet) (4.14.1)\n",
      "Requirement already satisfied: zipp>=3.20 in /Users/ariostas/miniforge3/envs/codas-hep/lib/python3.10/site-packages (from importlib-metadata>=4.13.0->awkward>=2->fastjet) (3.23.0)\n",
      "Note: you may need to restart the kernel to use updated packages.\n"
     ]
    }
   ],
   "source": [
    "%pip install fastjet"
   ]
  },
  {
   "cell_type": "code",
   "execution_count": 117,
   "id": "4e4b2ac8-19d0-47d7-836d-bb2fca5c1b3c",
   "metadata": {
    "editable": true,
    "slideshow": {
     "slide_type": "fragment"
    },
    "tags": []
   },
   "outputs": [
    {
     "data": {
      "text/plain": [
       "(<Array [24, 19, 13, 36, 39, 48, ..., 57, 41, 35, 34, 20, 93] type='100 * int64'>,\n",
       " <Array [8, 6, 6, 7, 8, 9, 8, 7, ..., 9, 8, 7, 6, 7, 4, 11] type='100 * int64'>)"
      ]
     },
     "execution_count": 117,
     "metadata": {},
     "output_type": "execute_result"
    }
   ],
   "source": [
    "import skhep_testdata, uproot\n",
    "import awkward as ak\n",
    "import particle\n",
    "from hepunits import GeV\n",
    "import vector\n",
    "\n",
    "vector.register_awkward()\n",
    "\n",
    "picodst = uproot.open(\n",
    "    \"https://pivarski-princeton.s3.amazonaws.com/pythia_ppZee_run17emb.picoDst.root:PicoDst\"\n",
    ")\n",
    "px, py, pz = ak.unzip(\n",
    "    picodst.arrays(filter_name=[\"Track/Track.mPMomentum[XYZ]\"], entry_stop=100)\n",
    ")\n",
    "\n",
    "probable_mass = particle.Particle.from_name(\"pi+\").mass / GeV\n",
    "\n",
    "pseudojets = ak.zip(\n",
    "    {\"px\": px, \"py\": py, \"pz\": pz, \"mass\": probable_mass}, with_name=\"Momentum4D\"\n",
    ")\n",
    "good_pseudojets = pseudojets[pseudojets.pt > 0.1]\n",
    "\n",
    "import fastjet\n",
    "\n",
    "jetdef = fastjet.JetDefinition(fastjet.antikt_algorithm, 1.0)\n",
    "\n",
    "clusterseq = fastjet.ClusterSequence(good_pseudojets, jetdef)\n",
    "clusterseq.inclusive_jets()\n",
    "\n",
    "ak.num(good_pseudojets), ak.num(clusterseq.inclusive_jets())\n"
   ]
  },
  {
   "cell_type": "markdown",
   "id": "7c2a4018-24f3-48ad-babe-3309d7ac94f8",
   "metadata": {
    "editable": true,
    "slideshow": {
     "slide_type": "fragment"
    },
    "tags": []
   },
   "source": [
    "This fastjet package uses Vector to get coordinate transformations and all the Lorentz vector methods you’re accustomed to having in pseudo-jet objects. I used Particle to impute the mass of particles with only track-level information.\n",
    "\n",
    "See how all the pieces accumulate?"
   ]
  },
  {
   "cell_type": "markdown",
   "id": "c347a6a7-5e98-4ba6-81f6-c8103fe8f73f",
   "metadata": {
    "editable": true,
    "slideshow": {
     "slide_type": "slide"
    },
    "tags": []
   },
   "source": [
    "# Scaling up"
   ]
  },
  {
   "cell_type": "markdown",
   "id": "290c5519-077d-428c-abc1-6a953ca0f53e",
   "metadata": {
    "editable": true,
    "slideshow": {
     "slide_type": "fragment"
    },
    "tags": []
   },
   "source": [
    "The tools described today are intended to be used within a script that is scaled up for large datasets."
   ]
  },
  {
   "cell_type": "markdown",
   "id": "67842144-4d59-498c-99f8-588ac1c1e839",
   "metadata": {
    "editable": true,
    "slideshow": {
     "slide_type": "fragment"
    },
    "tags": []
   },
   "source": [
    "The Coffea project collects provides an easy way to use all these tools in a distributed way so that you can perform large data analysis on a large compute grid.\n",
    "\n",
    "<center>\n",
    "<img src=\"images/coffea_logo.svg\" style=\"height:200px;\"/>\n",
    "</center>"
   ]
  },
  {
   "cell_type": "markdown",
   "id": "309d715a-8bcc-429e-a0e8-9587c80a2446",
   "metadata": {
    "editable": true,
    "slideshow": {
     "slide_type": "fragment"
    },
    "tags": []
   },
   "source": [
    "This topic is too large to cover here, but we refer you to the [Coffea documentation](https://coffea-hep.readthedocs.io)."
   ]
  },
  {
   "cell_type": "markdown",
   "id": "3879e121-f6af-4814-8821-0787b6700f12",
   "metadata": {
    "editable": true,
    "slideshow": {
     "slide_type": "slide"
    },
    "tags": []
   },
   "source": [
    "# Summary\n",
    "\n",
    "- There are a variety of Python tools for HEP, each with a very specific task.\n",
    "- All these tools work together to create an ecosystem.\n",
    "- You have the flexibility of picking whatever is right for your analysis."
   ]
  },
  {
   "cell_type": "code",
   "execution_count": null,
   "id": "8a653996-a234-4aa1-8b15-c62bd4b47796",
   "metadata": {},
   "outputs": [],
   "source": []
  }
 ],
 "metadata": {
  "kernelspec": {
   "display_name": "Python 3 (ipykernel)",
   "language": "python",
   "name": "python3"
  },
  "language_info": {
   "codemirror_mode": {
    "name": "ipython",
    "version": 3
   },
   "file_extension": ".py",
   "mimetype": "text/x-python",
   "name": "python",
   "nbconvert_exporter": "python",
   "pygments_lexer": "ipython3",
   "version": "3.10.18"
  }
 },
 "nbformat": 4,
 "nbformat_minor": 5
}
